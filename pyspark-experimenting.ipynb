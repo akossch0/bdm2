{
 "cells": [
  {
   "cell_type": "code",
   "execution_count": 1,
   "metadata": {},
   "outputs": [
    {
     "name": "stdout",
     "output_type": "stream",
     "text": [
      "SPARK_HOME = /root/uni-projects/bdm2/.venv/lib/python3.10/site-packages/pyspark\n",
      "JAVA_HOME = /root/.sdkman/candidates/java/current\n",
      "PATH = /root/uni-projects/bdm2/.venv/lib/python3.10/site-packages/pyspark/bin:/root/uni-projects/bdm2/.venv/bin:/root/.vscode-server/bin/dc96b837cf6bb4af9cd736aa3af08cf8279f7685/bin/remote-cli:/root/.tfenv/bin:/usr/local/sbin:/usr/local/bin:/usr/sbin:/usr/bin:/sbin:/bin:/usr/games:/usr/local/games:/usr/lib/wsl/lib:/mnt/c/Users/Akos Schneider/.jdks/oracle-8/bin:/mnt/c/Program Files/Common Files/Oracle/Java/javapath:/mnt/c/Program Files (x86)/Common Files/Oracle/Java/javapath:/mnt/c/WINDOWS/system32:/mnt/c/WINDOWS:/mnt/c/WINDOWS/System32/Wbem:/mnt/c/WINDOWS/System32/WindowsPowerShell/v1.0/:/mnt/c/WINDOWS/System32/OpenSSH/:/mnt/c/Program Files (x86)/NVIDIA Corporation/PhysX/Common:/mnt/c/Program Files/Git/cmd:/mnt/c/Program Files/TortoiseGit/bin:/mnt/c/Users/Akos Schneider/apache-maven-3.8.6/bin:/mnt/c/Program Files/nodejs/:/mnt/c/ProgramData/chocolatey/bin:/mnt/c/Users/Akos Schneider/terraform-1.3.4:/mnt/c/Users/Akos Schneider/.tfenv/bin:/mnt/c/WINDOWS/system32:/mnt/c/WINDOWS:/mnt/c/WINDOWS/System32/Wbem:/mnt/c/WINDOWS/System32/WindowsPowerShell/v1.0/:/mnt/c/WINDOWS/System32/OpenSSH/:/mnt/c/Program Files/NVIDIA Corporation/NVIDIA NvDLISR:/mnt/c/Users/Akos Schneider/.pyenv/pyenv-win/bin:/mnt/c/Users/Akos Schneider/.pyenv/pyenv-win/shims:/mnt/c/Users/Akos Schneider/anaconda3/Library/bin:/mnt/c/Users/Akos Schneider/anaconda3/Scripts:/mnt/c/Users/Akos Schneider/anaconda3/condabin:/mnt/c/Program Files/Cloudflare/Cloudflare WARP/:/mnt/c/Gradle/gradle-8.3-bin/gradle-8.3/bin:/mnt/c/Users/Akos Schneider/.pyenv/pyenv-win/versions/3.10.11/Scripts:/mnt/c/Program Files/PuTTY/:/Docker/host/bin:/mnt/c/hadoop/hadoop-3.3.6/bin:/mnt/c/Users/Akos Schneider/mongosh/mongosh-2.2.5-win32-x64/bin:/mnt/c/Users/Akos Schneider/.pyenv/pyenv-win/bin:/mnt/c/Users/Akos Schneider/.pyenv/pyenv-win/shims:/mnt/c/Users/Akos Schneider/AppData/Local/Microsoft/WindowsApps:/mnt/c/Users/Akos Schneider/AppData/Roaming/npm:/mnt/c/Users/Akos Schneider/AppData/Local/Google/Cloud SDK/google-cloud-sdk/bin:/mnt/c/Users/Akos Schneider/AppData/Local/Programs/Microsoft VS Code/bin:/mnt/c/Users/Akos Schneider/AppData/Local/Pandoc/:/mnt/c/Users/Akos Schneider/AppData/Local/JetBrains/Toolbox/scripts:/mnt/c/Users/Akos Schneider/AppData/Local/GitHubDesktop/bin:/mnt/c/Users/Akos Schneider/AppData/Roaming/TinyTeX/bin/windows:/mnt/c/Users/Akos Schneider/AppData/Local/Programs/mongosh/:/snap/bin\n",
      "PYSPARK_PYTHON = /root/uni-projects/bdm2/.venv/bin/python\n",
      "PYSPARK_DRIVER_PYTHON = /root/uni-projects/bdm2/.venv/bin/python\n"
     ]
    }
   ],
   "source": [
    "import os\n",
    "import sys\n",
    "from pyspark import SparkConf\n",
    "from pyspark.sql import SparkSession\n",
    "\n",
    "# Define the paths\n",
    "SPARK_HOME = r\"/root/uni-projects/bdm2/.venv/lib/python3.10/site-packages/pyspark\"\n",
    "JAVA_HOME = r\"/root/.sdkman/candidates/java/current\"\n",
    "\n",
    "# Ensure paths exist\n",
    "if not os.path.exists(SPARK_HOME):\n",
    "    raise ValueError(f\"SPARK_HOME path does not exist: {SPARK_HOME}\")\n",
    "if not os.path.exists(JAVA_HOME):\n",
    "    raise ValueError(f\"JAVA_HOME path does not exist: {JAVA_HOME}\")\n",
    "\n",
    "# Set the environment variables\n",
    "os.environ[\"SPARK_HOME\"] = SPARK_HOME\n",
    "os.environ[\"JAVA_HOME\"] = JAVA_HOME\n",
    "os.environ[\"PATH\"] = os.pathsep.join([\n",
    "    os.path.join(SPARK_HOME, \"bin\"),\n",
    "    os.environ[\"PATH\"],\n",
    "])\n",
    "os.environ[\"PYSPARK_PYTHON\"] = sys.executable\n",
    "os.environ[\"PYSPARK_DRIVER_PYTHON\"] = sys.executable\n",
    "\n",
    "# Debug prints to verify environment settings\n",
    "print(f\"SPARK_HOME = {os.environ['SPARK_HOME']}\")\n",
    "print(f\"JAVA_HOME = {os.environ['JAVA_HOME']}\")\n",
    "print(f\"PATH = {os.environ['PATH']}\")\n",
    "print(f\"PYSPARK_PYTHON = {os.environ['PYSPARK_PYTHON']}\")\n",
    "print(f\"PYSPARK_DRIVER_PYTHON = {os.environ['PYSPARK_DRIVER_PYTHON']}\")"
   ]
  },
  {
   "cell_type": "code",
   "execution_count": 3,
   "metadata": {},
   "outputs": [],
   "source": [
    "spark = None"
   ]
  },
  {
   "cell_type": "code",
   "execution_count": 7,
   "metadata": {},
   "outputs": [
    {
     "name": "stdout",
     "output_type": "stream",
     "text": [
      "Python version = 3.10\n",
      "Spark version = 3.5.1\n",
      "[('spark.master', 'local'), ('spark.driver.extraJavaOptions', '-Djava.net.preferIPv6Addresses=false -XX:+IgnoreUnrecognizedVMOptions --add-opens=java.base/java.lang=ALL-UNNAMED --add-opens=java.base/java.lang.invoke=ALL-UNNAMED --add-opens=java.base/java.lang.reflect=ALL-UNNAMED --add-opens=java.base/java.io=ALL-UNNAMED --add-opens=java.base/java.net=ALL-UNNAMED --add-opens=java.base/java.nio=ALL-UNNAMED --add-opens=java.base/java.util=ALL-UNNAMED --add-opens=java.base/java.util.concurrent=ALL-UNNAMED --add-opens=java.base/java.util.concurrent.atomic=ALL-UNNAMED --add-opens=java.base/jdk.internal.ref=ALL-UNNAMED --add-opens=java.base/sun.nio.ch=ALL-UNNAMED --add-opens=java.base/sun.nio.cs=ALL-UNNAMED --add-opens=java.base/sun.security.action=ALL-UNNAMED --add-opens=java.base/sun.util.calendar=ALL-UNNAMED --add-opens=java.security.jgss/sun.security.krb5=ALL-UNNAMED -Djdk.reflect.useDirectMethodHandle=false'), ('spark.app.initial.jar.urls', 'spark://172.23.175.226:36723/jars/org.apache.spark_spark-avro_2.12-3.5.1.jar,spark://172.23.175.226:36723/jars/org.mongodb_bson-record-codec-4.8.2.jar,spark://172.23.175.226:36723/jars/org.mongodb_bson-4.8.2.jar,spark://172.23.175.226:36723/jars/org.mongodb_mongodb-driver-core-4.8.2.jar,spark://172.23.175.226:36723/jars/org.tukaani_xz-1.9.jar,spark://172.23.175.226:36723/jars/org.mongodb.spark_mongo-spark-connector_2.12-10.3.0.jar,spark://172.23.175.226:36723/jars/org.mongodb_mongodb-driver-sync-4.8.2.jar'), ('spark.submit.pyFiles', '/root/.ivy2/jars/org.apache.spark_spark-avro_2.12-3.5.1.jar,/root/.ivy2/jars/org.mongodb.spark_mongo-spark-connector_2.12-10.3.0.jar,/root/.ivy2/jars/org.tukaani_xz-1.9.jar,/root/.ivy2/jars/org.mongodb_mongodb-driver-sync-4.8.2.jar,/root/.ivy2/jars/org.mongodb_bson-4.8.2.jar,/root/.ivy2/jars/org.mongodb_mongodb-driver-core-4.8.2.jar,/root/.ivy2/jars/org.mongodb_bson-record-codec-4.8.2.jar'), ('spark.files', 'file:///root/.ivy2/jars/org.apache.spark_spark-avro_2.12-3.5.1.jar,file:///root/.ivy2/jars/org.mongodb.spark_mongo-spark-connector_2.12-10.3.0.jar,file:///root/.ivy2/jars/org.tukaani_xz-1.9.jar,file:///root/.ivy2/jars/org.mongodb_mongodb-driver-sync-4.8.2.jar,file:///root/.ivy2/jars/org.mongodb_bson-4.8.2.jar,file:///root/.ivy2/jars/org.mongodb_mongodb-driver-core-4.8.2.jar,file:///root/.ivy2/jars/org.mongodb_bson-record-codec-4.8.2.jar'), ('spark.executor.id', 'driver'), ('spark.mongodb.write.connection.uri', 'mongodb://127.0.0.1:27017/'), ('spark.repl.local.jars', 'file:///root/.ivy2/jars/org.apache.spark_spark-avro_2.12-3.5.1.jar,file:///root/.ivy2/jars/org.mongodb.spark_mongo-spark-connector_2.12-10.3.0.jar,file:///root/.ivy2/jars/org.tukaani_xz-1.9.jar,file:///root/.ivy2/jars/org.mongodb_mongodb-driver-sync-4.8.2.jar,file:///root/.ivy2/jars/org.mongodb_bson-4.8.2.jar,file:///root/.ivy2/jars/org.mongodb_mongodb-driver-core-4.8.2.jar,file:///root/.ivy2/jars/org.mongodb_bson-record-codec-4.8.2.jar'), ('spark.driver.port', '36723'), ('spark.app.initial.file.urls', 'file:///root/.ivy2/jars/org.mongodb_bson-record-codec-4.8.2.jar,file:///root/.ivy2/jars/org.mongodb_mongodb-driver-sync-4.8.2.jar,file:///root/.ivy2/jars/org.mongodb.spark_mongo-spark-connector_2.12-10.3.0.jar,file:///root/.ivy2/jars/org.apache.spark_spark-avro_2.12-3.5.1.jar,file:///root/.ivy2/jars/org.mongodb_bson-4.8.2.jar,file:///root/.ivy2/jars/org.mongodb_mongodb-driver-core-4.8.2.jar,file:///root/.ivy2/jars/org.tukaani_xz-1.9.jar'), ('spark.app.startTime', '1715522535285'), ('spark.app.id', 'local-1715522535342'), ('spark.rdd.compress', 'True'), ('spark.executor.extraJavaOptions', '-Djava.net.preferIPv6Addresses=false -XX:+IgnoreUnrecognizedVMOptions --add-opens=java.base/java.lang=ALL-UNNAMED --add-opens=java.base/java.lang.invoke=ALL-UNNAMED --add-opens=java.base/java.lang.reflect=ALL-UNNAMED --add-opens=java.base/java.io=ALL-UNNAMED --add-opens=java.base/java.net=ALL-UNNAMED --add-opens=java.base/java.nio=ALL-UNNAMED --add-opens=java.base/java.util=ALL-UNNAMED --add-opens=java.base/java.util.concurrent=ALL-UNNAMED --add-opens=java.base/java.util.concurrent.atomic=ALL-UNNAMED --add-opens=java.base/jdk.internal.ref=ALL-UNNAMED --add-opens=java.base/sun.nio.ch=ALL-UNNAMED --add-opens=java.base/sun.nio.cs=ALL-UNNAMED --add-opens=java.base/sun.security.action=ALL-UNNAMED --add-opens=java.base/sun.util.calendar=ALL-UNNAMED --add-opens=java.security.jgss/sun.security.krb5=ALL-UNNAMED -Djdk.reflect.useDirectMethodHandle=false'), ('spark.driver.host', '172.23.175.226'), ('spark.mongodb.read.connection.uri', 'mongodb://127.0.0.1:27017/'), ('spark.serializer.objectStreamReset', '100'), ('spark.jars', 'file:///root/.ivy2/jars/org.apache.spark_spark-avro_2.12-3.5.1.jar,file:///root/.ivy2/jars/org.mongodb.spark_mongo-spark-connector_2.12-10.3.0.jar,file:///root/.ivy2/jars/org.tukaani_xz-1.9.jar,file:///root/.ivy2/jars/org.mongodb_mongodb-driver-sync-4.8.2.jar,file:///root/.ivy2/jars/org.mongodb_bson-4.8.2.jar,file:///root/.ivy2/jars/org.mongodb_mongodb-driver-core-4.8.2.jar,file:///root/.ivy2/jars/org.mongodb_bson-record-codec-4.8.2.jar'), ('spark.app.name', 'Spark Dataframes Tutorial'), ('spark.submit.deployMode', 'client'), ('spark.jars.packages', 'org.apache.spark:spark-avro_2.12:3.5.1,org.mongodb.spark:mongo-spark-connector_2.12:10.3.0'), ('spark.ui.showConsoleProgress', 'true'), ('spark.app.submitTime', '1715522402994')]\n"
     ]
    }
   ],
   "source": [
    "if spark:\n",
    "    spark.stop()\n",
    "# Create the configuration in the local machine and give a name to the application\n",
    "conf = SparkConf() \\\n",
    "    .set(\"spark.master\", \"local\") \\\n",
    "    .set(\"spark.app.name\", \"Spark Dataframes Tutorial\") \\\n",
    "    .set(\"spark.jars.packages\", \"org.apache.spark:spark-avro_2.12:3.5.1,org.mongodb.spark:mongo-spark-connector_2.12:10.3.0\")\n",
    "\n",
    "\n",
    "# Create the session \n",
    "spark = SparkSession.builder \\\n",
    "    .config(conf=conf) \\\n",
    "    .config(\"spark.mongodb.read.connection.uri\", \"mongodb://127.0.0.1:27017/\") \\\n",
    "    .config(\"spark.mongodb.write.connection.uri\", \"mongodb://127.0.0.1:27017/\") \\\n",
    "    .getOrCreate()\n",
    "print(f\"Python version = {spark.sparkContext.pythonVer}\")\n",
    "print(f\"Spark version = {spark.version}\")\n",
    "print(spark.sparkContext.getConf().getAll())"
   ]
  },
  {
   "cell_type": "code",
   "execution_count": 8,
   "metadata": {},
   "outputs": [
    {
     "name": "stdout",
     "output_type": "stream",
     "text": [
      "+--------------------+---------+---+--------+--------+-------+--------------------+--------------+--------------+----------+--------------------+------------+------------------+-------------+-------------+-------------+\n",
      "|          nom_cabina|codi_dtes|zqa|codi_eoi|longitud|latitud|            Ubicacio|Codi_Districte| Nom_Districte|Codi_Barri|           Nom_Barri|Ocupacio_sol|Emissions_Properes|Contaminant_1|Contaminant_2|Contaminant_3|\n",
      "+--------------------+---------+---+--------+--------+-------+--------------------+--------------+--------------+----------+--------------------+------------+------------------+-------------+-------------+-------------+\n",
      "|Barcelona - Ciuta...|       IL|  1| 8019050|  2.1874|41.3864|Parc de la Ciutad...|             1|  Ciutat Vella|         4|Sant Pere, Santa ...|      Urbana|              Fons|          NO2|           O3|         NULL|\n",
      "|Barcelona - Eixample|       IH|  1| 8019043|  2.1538|41.3853|Av. Roma - c/ Com...|             5|      Eixample|         9|la Nova Esquerra ...|      Urbana|          TrÃ nsit|          NO2|           O3|         PM10|\n",
      "| Barcelona - GrÃ cia|       IJ|  1| 8019044|  2.1534|41.3987|PlaÃ§a GalÂ·la Pl...|             6|        Gracia|        31|   la Vila de Gracia|      Urbana|          TrÃ nsit|          NO2|           O3|         PM10|\n",
      "|Barcelona - Palau...|       IZ|  1| 8019057|  2.1151|41.3875|c/ John Maynard K...|             4|     Les Corts|        21|           Pedralbes|      Urbana|              Fons|          NO2|           O3|         PM10|\n",
      "|Barcelona - Poblenou|       I2|  1| 8019004|  2.2045|41.4039|PlaÃ§a Josep True...|            10|    Sant Marti|        68|         el Poblenou|      Urbana|              Fons|          NO2|         NULL|         PM10|\n",
      "|   Barcelona - Sants|       ID|  1| 8019042|  2.1331|41.3788|Jardins de Can Ma...|             3|Sants-Montjuic|        18|               Sants|      Urbana|              Fons|          NO2|         NULL|         NULL|\n",
      "|Barcelona - Vall ...|       IN|  1| 8019054|   2.148|41.4261|Parc de la Vall d...|             7|Horta-Guinardo|        41|    la Vall d'Hebron|      Urbana|              Fons|          NO2|           O3|         PM10|\n",
      "+--------------------+---------+---+--------+--------+-------+--------------------+--------------+--------------+----------+--------------------+------------+------------------+-------------+-------------+-------------+\n",
      "\n"
     ]
    }
   ],
   "source": [
    "\n",
    "df = spark.read.format(\"avro\").load(\"data/persistent-landing-zone/lookup/2018_qualitat_aire_estacions_49d67292d3b070494d872ad69f21f33606716bb9.avro\")\n",
    "\n",
    "df.show()\n",
    "\n",
    "# to pandas dataframe\n",
    "df.write.format(\"mongodb\") \\\n",
    "    .mode(\"append\") \\\n",
    "    .option(\"database\", \"test\") \\\n",
    "    .option(\"collection\", \"test\") \\\n",
    "    .save()"
   ]
  },
  {
   "cell_type": "code",
   "execution_count": 9,
   "metadata": {},
   "outputs": [
    {
     "name": "stdout",
     "output_type": "stream",
     "text": [
      "+----------+--------------+-------------+-------------+-------------+------------------+--------------------+--------------+------------+--------------------+--------------------+---------+--------+-------+--------+--------------------+---+\n",
      "|Codi_Barri|Codi_Districte|Contaminant_1|Contaminant_2|Contaminant_3|Emissions_Properes|           Nom_Barri| Nom_Districte|Ocupacio_sol|            Ubicacio|                 _id|codi_dtes|codi_eoi|latitud|longitud|          nom_cabina|zqa|\n",
      "+----------+--------------+-------------+-------------+-------------+------------------+--------------------+--------------+------------+--------------------+--------------------+---------+--------+-------+--------+--------------------+---+\n",
      "|         4|             1|          NO2|           O3|         NULL|              Fons|Sant Pere, Santa ...|  Ciutat Vella|      Urbana|Parc de la Ciutad...|6640cb7315a864518...|       IL| 8019050|41.3864|  2.1874|Barcelona - Ciuta...|  1|\n",
      "|         9|             5|          NO2|           O3|         PM10|          TrÃ nsit|la Nova Esquerra ...|      Eixample|      Urbana|Av. Roma - c/ Com...|6640cb7315a864518...|       IH| 8019043|41.3853|  2.1538|Barcelona - Eixample|  1|\n",
      "|        31|             6|          NO2|           O3|         PM10|          TrÃ nsit|   la Vila de Gracia|        Gracia|      Urbana|PlaÃ§a GalÂ·la Pl...|6640cb7315a864518...|       IJ| 8019044|41.3987|  2.1534| Barcelona - GrÃ cia|  1|\n",
      "|        21|             4|          NO2|           O3|         PM10|              Fons|           Pedralbes|     Les Corts|      Urbana|c/ John Maynard K...|6640cb7315a864518...|       IZ| 8019057|41.3875|  2.1151|Barcelona - Palau...|  1|\n",
      "|        68|            10|          NO2|         NULL|         PM10|              Fons|         el Poblenou|    Sant Marti|      Urbana|PlaÃ§a Josep True...|6640cb7315a864518...|       I2| 8019004|41.4039|  2.2045|Barcelona - Poblenou|  1|\n",
      "|        18|             3|          NO2|         NULL|         NULL|              Fons|               Sants|Sants-Montjuic|      Urbana|Jardins de Can Ma...|6640cb7315a864518...|       ID| 8019042|41.3788|  2.1331|   Barcelona - Sants|  1|\n",
      "|        41|             7|          NO2|           O3|         PM10|              Fons|    la Vall d'Hebron|Horta-Guinardo|      Urbana|Parc de la Vall d...|6640cb7315a864518...|       IN| 8019054|41.4261|   2.148|Barcelona - Vall ...|  1|\n",
      "|         4|             1|          NO2|           O3|         NULL|              Fons|Sant Pere, Santa ...|  Ciutat Vella|      Urbana|Parc de la Ciutad...|6640cbec15a864518...|       IL| 8019050|41.3864|  2.1874|Barcelona - Ciuta...|  1|\n",
      "|         9|             5|          NO2|           O3|         PM10|          TrÃ nsit|la Nova Esquerra ...|      Eixample|      Urbana|Av. Roma - c/ Com...|6640cbec15a864518...|       IH| 8019043|41.3853|  2.1538|Barcelona - Eixample|  1|\n",
      "|        31|             6|          NO2|           O3|         PM10|          TrÃ nsit|   la Vila de Gracia|        Gracia|      Urbana|PlaÃ§a GalÂ·la Pl...|6640cbec15a864518...|       IJ| 8019044|41.3987|  2.1534| Barcelona - GrÃ cia|  1|\n",
      "|        21|             4|          NO2|           O3|         PM10|              Fons|           Pedralbes|     Les Corts|      Urbana|c/ John Maynard K...|6640cbec15a864518...|       IZ| 8019057|41.3875|  2.1151|Barcelona - Palau...|  1|\n",
      "|        68|            10|          NO2|         NULL|         PM10|              Fons|         el Poblenou|    Sant Marti|      Urbana|PlaÃ§a Josep True...|6640cbec15a864518...|       I2| 8019004|41.4039|  2.2045|Barcelona - Poblenou|  1|\n",
      "|        18|             3|          NO2|         NULL|         NULL|              Fons|               Sants|Sants-Montjuic|      Urbana|Jardins de Can Ma...|6640cbec15a864518...|       ID| 8019042|41.3788|  2.1331|   Barcelona - Sants|  1|\n",
      "|        41|             7|          NO2|           O3|         PM10|              Fons|    la Vall d'Hebron|Horta-Guinardo|      Urbana|Parc de la Vall d...|6640cbec15a864518...|       IN| 8019054|41.4261|   2.148|Barcelona - Vall ...|  1|\n",
      "+----------+--------------+-------------+-------------+-------------+------------------+--------------------+--------------+------------+--------------------+--------------------+---------+--------+-------+--------+--------------------+---+\n",
      "\n"
     ]
    }
   ],
   "source": [
    "dataFrame = spark.read \\\n",
    "    .format(\"mongodb\") \\\n",
    "    .option(\"database\", \"test\") \\\n",
    "    .option(\"collection\", \"test\") \\\n",
    "    .load() \\\n",
    "    .show()"
   ]
  }
 ],
 "metadata": {
  "kernelspec": {
   "display_name": ".venv",
   "language": "python",
   "name": "python3"
  },
  "language_info": {
   "codemirror_mode": {
    "name": "ipython",
    "version": 3
   },
   "file_extension": ".py",
   "mimetype": "text/x-python",
   "name": "python",
   "nbconvert_exporter": "python",
   "pygments_lexer": "ipython3",
   "version": "3.10.12"
  }
 },
 "nbformat": 4,
 "nbformat_minor": 2
}
