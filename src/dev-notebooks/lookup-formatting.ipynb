{
 "cells": [
  {
   "cell_type": "code",
   "execution_count": 1,
   "metadata": {},
   "outputs": [
    {
     "name": "stdout",
     "output_type": "stream",
     "text": [
      "SPARK_HOME = /root/uni-projects/bdm2/.venv/lib/python3.10/site-packages/pyspark\n",
      "JAVA_HOME = /root/.sdkman/candidates/java/current\n",
      "PATH = /root/uni-projects/bdm2/.venv/lib/python3.10/site-packages/pyspark/bin:/root/uni-projects/bdm2/.venv/bin:/root/.vscode-server/bin/dc96b837cf6bb4af9cd736aa3af08cf8279f7685/bin/remote-cli:/root/.tfenv/bin:/usr/local/sbin:/usr/local/bin:/usr/sbin:/usr/bin:/sbin:/bin:/usr/games:/usr/local/games:/usr/lib/wsl/lib:/mnt/c/Users/Akos Schneider/.jdks/oracle-8/bin:/mnt/c/Program Files/Common Files/Oracle/Java/javapath:/mnt/c/Program Files (x86)/Common Files/Oracle/Java/javapath:/mnt/c/WINDOWS/system32:/mnt/c/WINDOWS:/mnt/c/WINDOWS/System32/Wbem:/mnt/c/WINDOWS/System32/WindowsPowerShell/v1.0/:/mnt/c/WINDOWS/System32/OpenSSH/:/mnt/c/Program Files (x86)/NVIDIA Corporation/PhysX/Common:/mnt/c/Program Files/Git/cmd:/mnt/c/Program Files/TortoiseGit/bin:/mnt/c/Users/Akos Schneider/apache-maven-3.8.6/bin:/mnt/c/Program Files/nodejs/:/mnt/c/ProgramData/chocolatey/bin:/mnt/c/Users/Akos Schneider/terraform-1.3.4:/mnt/c/Users/Akos Schneider/.tfenv/bin:/mnt/c/WINDOWS/system32:/mnt/c/WINDOWS:/mnt/c/WINDOWS/System32/Wbem:/mnt/c/WINDOWS/System32/WindowsPowerShell/v1.0/:/mnt/c/WINDOWS/System32/OpenSSH/:/mnt/c/Program Files/NVIDIA Corporation/NVIDIA NvDLISR:/mnt/c/Users/Akos Schneider/.pyenv/pyenv-win/bin:/mnt/c/Users/Akos Schneider/.pyenv/pyenv-win/shims:/mnt/c/Users/Akos Schneider/anaconda3/Library/bin:/mnt/c/Users/Akos Schneider/anaconda3/Scripts:/mnt/c/Users/Akos Schneider/anaconda3/condabin:/mnt/c/Program Files/Cloudflare/Cloudflare WARP/:/mnt/c/Gradle/gradle-8.3-bin/gradle-8.3/bin:/mnt/c/Users/Akos Schneider/.pyenv/pyenv-win/versions/3.10.11/Scripts:/mnt/c/Program Files/PuTTY/:/Docker/host/bin:/mnt/c/hadoop/hadoop-3.3.6/bin:/mnt/c/Users/Akos Schneider/mongosh/mongosh-2.2.5-win32-x64/bin:/mnt/c/Users/Akos Schneider/.pyenv/pyenv-win/bin:/mnt/c/Users/Akos Schneider/.pyenv/pyenv-win/shims:/mnt/c/Users/Akos Schneider/AppData/Local/Microsoft/WindowsApps:/mnt/c/Users/Akos Schneider/AppData/Roaming/npm:/mnt/c/Users/Akos Schneider/AppData/Local/Google/Cloud SDK/google-cloud-sdk/bin:/mnt/c/Users/Akos Schneider/AppData/Local/Programs/Microsoft VS Code/bin:/mnt/c/Users/Akos Schneider/AppData/Local/Pandoc/:/mnt/c/Users/Akos Schneider/AppData/Local/JetBrains/Toolbox/scripts:/mnt/c/Users/Akos Schneider/AppData/Local/GitHubDesktop/bin:/mnt/c/Users/Akos Schneider/AppData/Roaming/TinyTeX/bin/windows:/mnt/c/Users/Akos Schneider/AppData/Local/Programs/mongosh/:/snap/bin\n",
      "PYSPARK_PYTHON = /root/uni-projects/bdm2/.venv/bin/python\n",
      "PYSPARK_DRIVER_PYTHON = /root/uni-projects/bdm2/.venv/bin/python\n"
     ]
    }
   ],
   "source": [
    "from utils import validate_env, setup_env, log_env\n",
    "import os\n",
    "import sys\n",
    "from pyspark import SparkConf\n",
    "from pyspark.sql import SparkSession\n",
    "\n",
    "setup_env()\n",
    "validate_env()\n",
    "log_env()"
   ]
  },
  {
   "cell_type": "code",
   "execution_count": 2,
   "metadata": {},
   "outputs": [],
   "source": [
    "spark = None"
   ]
  },
  {
   "cell_type": "code",
   "execution_count": 31,
   "metadata": {},
   "outputs": [
    {
     "name": "stdout",
     "output_type": "stream",
     "text": [
      "Python version = 3.10\n",
      "Spark version = 3.5.1\n",
      "[('spark.master', 'local'), ('spark.driver.extraJavaOptions', '-Djava.net.preferIPv6Addresses=false -XX:+IgnoreUnrecognizedVMOptions --add-opens=java.base/java.lang=ALL-UNNAMED --add-opens=java.base/java.lang.invoke=ALL-UNNAMED --add-opens=java.base/java.lang.reflect=ALL-UNNAMED --add-opens=java.base/java.io=ALL-UNNAMED --add-opens=java.base/java.net=ALL-UNNAMED --add-opens=java.base/java.nio=ALL-UNNAMED --add-opens=java.base/java.util=ALL-UNNAMED --add-opens=java.base/java.util.concurrent=ALL-UNNAMED --add-opens=java.base/java.util.concurrent.atomic=ALL-UNNAMED --add-opens=java.base/jdk.internal.ref=ALL-UNNAMED --add-opens=java.base/sun.nio.ch=ALL-UNNAMED --add-opens=java.base/sun.nio.cs=ALL-UNNAMED --add-opens=java.base/sun.security.action=ALL-UNNAMED --add-opens=java.base/sun.util.calendar=ALL-UNNAMED --add-opens=java.security.jgss/sun.security.krb5=ALL-UNNAMED -Djdk.reflect.useDirectMethodHandle=false'), ('spark.app.id', 'local-1715867836881'), ('spark.submit.pyFiles', '/root/.ivy2/jars/org.apache.spark_spark-avro_2.12-3.5.1.jar,/root/.ivy2/jars/org.mongodb.spark_mongo-spark-connector_2.12-10.3.0.jar,/root/.ivy2/jars/org.tukaani_xz-1.9.jar,/root/.ivy2/jars/org.mongodb_mongodb-driver-sync-4.8.2.jar,/root/.ivy2/jars/org.mongodb_bson-4.8.2.jar,/root/.ivy2/jars/org.mongodb_mongodb-driver-core-4.8.2.jar,/root/.ivy2/jars/org.mongodb_bson-record-codec-4.8.2.jar'), ('spark.app.submitTime', '1715866826137'), ('spark.executor.id', 'driver'), ('spark.files', 'file:///root/.ivy2/jars/org.apache.spark_spark-avro_2.12-3.5.1.jar,file:///root/.ivy2/jars/org.mongodb.spark_mongo-spark-connector_2.12-10.3.0.jar,file:///root/.ivy2/jars/org.tukaani_xz-1.9.jar,file:///root/.ivy2/jars/org.mongodb_mongodb-driver-sync-4.8.2.jar,file:///root/.ivy2/jars/org.mongodb_bson-4.8.2.jar,file:///root/.ivy2/jars/org.mongodb_mongodb-driver-core-4.8.2.jar,file:///root/.ivy2/jars/org.mongodb_bson-record-codec-4.8.2.jar'), ('spark.mongodb.write.connection.uri', 'mongodb://127.0.0.1:27017/'), ('spark.repl.local.jars', 'file:///root/.ivy2/jars/org.apache.spark_spark-avro_2.12-3.5.1.jar,file:///root/.ivy2/jars/org.mongodb.spark_mongo-spark-connector_2.12-10.3.0.jar,file:///root/.ivy2/jars/org.tukaani_xz-1.9.jar,file:///root/.ivy2/jars/org.mongodb_mongodb-driver-sync-4.8.2.jar,file:///root/.ivy2/jars/org.mongodb_bson-4.8.2.jar,file:///root/.ivy2/jars/org.mongodb_mongodb-driver-core-4.8.2.jar,file:///root/.ivy2/jars/org.mongodb_bson-record-codec-4.8.2.jar'), ('spark.app.startTime', '1715867836686'), ('spark.app.initial.file.urls', 'file:///root/.ivy2/jars/org.mongodb_bson-record-codec-4.8.2.jar,file:///root/.ivy2/jars/org.mongodb_mongodb-driver-sync-4.8.2.jar,file:///root/.ivy2/jars/org.mongodb.spark_mongo-spark-connector_2.12-10.3.0.jar,file:///root/.ivy2/jars/org.apache.spark_spark-avro_2.12-3.5.1.jar,file:///root/.ivy2/jars/org.mongodb_bson-4.8.2.jar,file:///root/.ivy2/jars/org.mongodb_mongodb-driver-core-4.8.2.jar,file:///root/.ivy2/jars/org.tukaani_xz-1.9.jar'), ('spark.driver.port', '45415'), ('spark.rdd.compress', 'True'), ('spark.executor.extraJavaOptions', '-Djava.net.preferIPv6Addresses=false -XX:+IgnoreUnrecognizedVMOptions --add-opens=java.base/java.lang=ALL-UNNAMED --add-opens=java.base/java.lang.invoke=ALL-UNNAMED --add-opens=java.base/java.lang.reflect=ALL-UNNAMED --add-opens=java.base/java.io=ALL-UNNAMED --add-opens=java.base/java.net=ALL-UNNAMED --add-opens=java.base/java.nio=ALL-UNNAMED --add-opens=java.base/java.util=ALL-UNNAMED --add-opens=java.base/java.util.concurrent=ALL-UNNAMED --add-opens=java.base/java.util.concurrent.atomic=ALL-UNNAMED --add-opens=java.base/jdk.internal.ref=ALL-UNNAMED --add-opens=java.base/sun.nio.ch=ALL-UNNAMED --add-opens=java.base/sun.nio.cs=ALL-UNNAMED --add-opens=java.base/sun.security.action=ALL-UNNAMED --add-opens=java.base/sun.util.calendar=ALL-UNNAMED --add-opens=java.security.jgss/sun.security.krb5=ALL-UNNAMED -Djdk.reflect.useDirectMethodHandle=false'), ('spark.driver.host', '172.23.175.226'), ('spark.app.initial.jar.urls', 'spark://172.23.175.226:45415/jars/org.mongodb_mongodb-driver-core-4.8.2.jar,spark://172.23.175.226:45415/jars/org.mongodb.spark_mongo-spark-connector_2.12-10.3.0.jar,spark://172.23.175.226:45415/jars/org.apache.spark_spark-avro_2.12-3.5.1.jar,spark://172.23.175.226:45415/jars/org.mongodb_mongodb-driver-sync-4.8.2.jar,spark://172.23.175.226:45415/jars/org.tukaani_xz-1.9.jar,spark://172.23.175.226:45415/jars/org.mongodb_bson-record-codec-4.8.2.jar,spark://172.23.175.226:45415/jars/org.mongodb_bson-4.8.2.jar'), ('spark.mongodb.read.connection.uri', 'mongodb://127.0.0.1:27017/'), ('spark.serializer.objectStreamReset', '100'), ('spark.jars', 'file:///root/.ivy2/jars/org.apache.spark_spark-avro_2.12-3.5.1.jar,file:///root/.ivy2/jars/org.mongodb.spark_mongo-spark-connector_2.12-10.3.0.jar,file:///root/.ivy2/jars/org.tukaani_xz-1.9.jar,file:///root/.ivy2/jars/org.mongodb_mongodb-driver-sync-4.8.2.jar,file:///root/.ivy2/jars/org.mongodb_bson-4.8.2.jar,file:///root/.ivy2/jars/org.mongodb_mongodb-driver-core-4.8.2.jar,file:///root/.ivy2/jars/org.mongodb_bson-record-codec-4.8.2.jar'), ('spark.app.name', 'Spark Dataframes Tutorial'), ('spark.submit.deployMode', 'client'), ('spark.jars.packages', 'org.apache.spark:spark-avro_2.12:3.5.1,org.mongodb.spark:mongo-spark-connector_2.12:10.3.0'), ('spark.ui.showConsoleProgress', 'true')]\n"
     ]
    }
   ],
   "source": [
    "if spark:\n",
    "    spark.stop()\n",
    "# Create the configuration in the local machine and give a name to the application\n",
    "conf = SparkConf() \\\n",
    "    .set(\"spark.master\", \"local\") \\\n",
    "    .set(\"spark.app.name\", \"Spark Dataframes Tutorial\") \\\n",
    "    .set(\"spark.jars.packages\", \"org.apache.spark:spark-avro_2.12:3.5.1,org.mongodb.spark:mongo-spark-connector_2.12:10.3.0\")\n",
    "\n",
    "\n",
    "# Create the session \n",
    "spark = SparkSession.builder \\\n",
    "    .config(conf=conf) \\\n",
    "    .config(\"spark.mongodb.read.connection.uri\", \"mongodb://127.0.0.1:27017/\") \\\n",
    "    .config(\"spark.mongodb.write.connection.uri\", \"mongodb://127.0.0.1:27017/\") \\\n",
    "    .getOrCreate()\n",
    "print(f\"Python version = {spark.sparkContext.pythonVer}\")\n",
    "print(f\"Spark version = {spark.version}\")\n",
    "print(spark.sparkContext.getConf().getAll())"
   ]
  },
  {
   "cell_type": "markdown",
   "metadata": {},
   "source": [
    "## Income and Idealista lookup tables"
   ]
  },
  {
   "cell_type": "code",
   "execution_count": 32,
   "metadata": {},
   "outputs": [],
   "source": [
    "lookup_dir = \"../data/persistent-landing-zone/lookup\"\n",
    "# get files\n",
    "files = os.listdir(lookup_dir)\n",
    "# keep only those that start with either idealista or income\n",
    "files = [file for file in files if file.startswith(\"idealista\") or file.startswith(\"income\")]\n",
    "# add the path to the files\n",
    "files = [f\"{lookup_dir}/{file}\" for file in files]\n",
    "# create a list of dataframes\n",
    "dfs = []\n",
    "for file in files:\n",
    "    # read the file\n",
    "    df = spark.read.format(\"avro\").load(file)\n",
    "    # append the dataframe to the list\n",
    "    dfs.append(df)"
   ]
  },
  {
   "cell_type": "code",
   "execution_count": 33,
   "metadata": {},
   "outputs": [
    {
     "name": "stdout",
     "output_type": "stream",
     "text": [
      "root\n",
      " |-- district: string (nullable = true)\n",
      " |-- neighborhood: string (nullable = true)\n",
      " |-- district_n_reconciled: string (nullable = true)\n",
      " |-- district_n: string (nullable = true)\n",
      " |-- district_id: string (nullable = true)\n",
      " |-- neighborhood_n_reconciled: string (nullable = true)\n",
      " |-- neighborhood_n: string (nullable = true)\n",
      " |-- neighborhood_id: string (nullable = true)\n",
      "\n",
      "root\n",
      " |-- district: string (nullable = true)\n",
      " |-- neighborhood: string (nullable = true)\n",
      " |-- district_n_reconciled: string (nullable = true)\n",
      " |-- district_n: string (nullable = true)\n",
      " |-- district_id: string (nullable = true)\n",
      " |-- neighborhood_n_reconciled: string (nullable = true)\n",
      " |-- neighborhood_n: string (nullable = true)\n",
      " |-- neighborhood_id: string (nullable = true)\n",
      "\n"
     ]
    }
   ],
   "source": [
    "for df in dfs:\n",
    "    df.printSchema()"
   ]
  },
  {
   "cell_type": "code",
   "execution_count": 34,
   "metadata": {},
   "outputs": [
    {
     "name": "stdout",
     "output_type": "stream",
     "text": [
      "root\n",
      " |-- district: string (nullable = true)\n",
      " |-- neighborhood: string (nullable = true)\n",
      " |-- district_n_reconciled: string (nullable = true)\n",
      " |-- district_n: string (nullable = true)\n",
      " |-- district_id: string (nullable = true)\n",
      " |-- neighborhood_n_reconciled: string (nullable = true)\n",
      " |-- neighborhood_n: string (nullable = true)\n",
      " |-- neighborhood_id: string (nullable = true)\n",
      "\n"
     ]
    }
   ],
   "source": [
    "# union the dataframes\n",
    "df = dfs[0].union(dfs[1])\n",
    "df.printSchema()"
   ]
  },
  {
   "cell_type": "code",
   "execution_count": 35,
   "metadata": {},
   "outputs": [
    {
     "name": "stdout",
     "output_type": "stream",
     "text": [
      "Number of rows before deduplication: 127\n",
      "Number of rows after deduplication: 113\n"
     ]
    }
   ],
   "source": [
    "# deduplicate the dataframe\n",
    "print(f\"Number of rows before deduplication: {df.count()}\")\n",
    "df = df.dropDuplicates()\n",
    "print(f\"Number of rows after deduplication: {df.count()}\")"
   ]
  },
  {
   "cell_type": "code",
   "execution_count": 36,
   "metadata": {},
   "outputs": [
    {
     "name": "stdout",
     "output_type": "stream",
     "text": [
      "73\n"
     ]
    }
   ],
   "source": [
    "# count number of unique values in the column \"neighborhood_id\"\n",
    "print(df.select(\"neighborhood_id\", \"district_n_reconciled\", \"neighborhood_n_reconciled\").distinct().count())"
   ]
  },
  {
   "cell_type": "code",
   "execution_count": 37,
   "metadata": {},
   "outputs": [
    {
     "data": {
      "text/plain": [
       "113"
      ]
     },
     "execution_count": 37,
     "metadata": {},
     "output_type": "execute_result"
    }
   ],
   "source": [
    "df.count()"
   ]
  },
  {
   "cell_type": "code",
   "execution_count": 38,
   "metadata": {},
   "outputs": [
    {
     "name": "stdout",
     "output_type": "stream",
     "text": [
      "Number of rows before deduplication: 113\n",
      "Number of rows after deduplication: 73\n"
     ]
    }
   ],
   "source": [
    "# drop duplicates based on \"neighborhood_id\", \"district_n_reconciled\", \"neighborhood_n_reconciled\"\n",
    "print(f\"Number of rows before deduplication: {df.count()}\")\n",
    "df = df.dropDuplicates([\"neighborhood_id\", \"district_n_reconciled\", \"neighborhood_n_reconciled\"])\n",
    "print(f\"Number of rows after deduplication: {df.count()}\")"
   ]
  },
  {
   "cell_type": "code",
   "execution_count": 39,
   "metadata": {},
   "outputs": [
    {
     "name": "stdout",
     "output_type": "stream",
     "text": [
      "+--------------+--------------------+---------------------+--------------+-----------+-------------------------+--------------------+---------------+\n",
      "|      district|        neighborhood|district_n_reconciled|    district_n|district_id|neighborhood_n_reconciled|      neighborhood_n|neighborhood_id|\n",
      "+--------------+--------------------+---------------------+--------------+-----------+-------------------------+--------------------+---------------+\n",
      "|      Eixample|la Nova Esquerra ...|             Eixample|      eixample|     Q64124|     La Nova Esquerra ...|la nova esquerra ...|       Q1026658|\n",
      "|    Sant Martí|la Vila Olímpica ...|           Sant Martí|    sant marti|    Q250935|     La Vila Olímpica ...|la vila olimpica ...|       Q1167101|\n",
      "|    Sant Martí|         el Poblenou|           Sant Martí|    sant marti|    Q250935|              El Poblenou|         el poblenou|       Q1404773|\n",
      "|   Sant Andreu|       Baró de Viver|          Sant Andreu|   sant andreu|   Q1650230|            Baró de Viver|       baro de viver|       Q1425291|\n",
      "|Horta-Guinardó|               Horta|       Horta-Guinardó|horta guinardo|   Q1771488|         Horta, Barcelona|               horta|      Q15225338|\n",
      "|    Nou Barris|        les Roquetes|           Nou Barris|    nou barris|   Q1641049|             Les Roquetes|        les roquetes|       Q1627690|\n",
      "|  Ciutat Vella|      el Barri Gòtic|         Ciutat Vella|  ciutat vella|    Q941385|           Gothic Quarter|      el barri gotic|         Q17154|\n",
      "|  Ciutat Vella|            el Raval|         Ciutat Vella|  ciutat vella|    Q941385|                 El Raval|            el raval|       Q1758503|\n",
      "|      Eixample|la Dreta de l'Eix...|             Eixample|      eixample|     Q64124|      Dreta de l'Eixample|la dreta de l eix...|       Q1904302|\n",
      "|        Gràcia|             el Coll|               Gràcia|        gracia|    Q852697|                  el Coll|             el coll|       Q1932090|\n",
      "|        Gràcia|Vallcarca i els P...|               Gràcia|        gracia|    Q852697|     Vallcarca i els P...|vallcarca i els p...|       Q2057331|\n",
      "|      Eixample|       el Fort Pienc|             Eixample|      eixample|     Q64124|               Fort Pienc|       el fort pienc|       Q2107762|\n",
      "|    Sant Martí|el Besòs i el Mar...|           Sant Martí|    sant marti|    Q250935|     El Besòs i el Mar...|el besos i el mar...|       Q2390761|\n",
      "|  Ciutat Vella|Sant Pere, Santa ...|         Ciutat Vella|  ciutat vella|    Q941385|     Sant Pere, Santa ...|sant pere, santa ...|       Q2442135|\n",
      "|      Eixample|  la Sagrada Família|             Eixample|      eixample|     Q64124|          Sagrada Família|  la sagrada familia|       Q2470217|\n",
      "|Sants-Montjuïc|               Sants|       Sants-Montjuïc|sants montjuic|    Q753075|                    Sants|               sants|       Q2476184|\n",
      "|     Les Corts|           Pedralbes|            Les Corts|     les corts|    Q959944|                Pedralbes|           pedralbes|       Q2562684|\n",
      "|    Sant Martí|Diagonal Mar i el...|           Sant Martí|    sant marti|    Q250935|     Diagonal Mar i el...|diagonal mar i el...|       Q2736444|\n",
      "|    Nou Barris|        la Guineueta|           Nou Barris|    nou barris|   Q1641049|             La Guineueta|        la guineueta|       Q2736697|\n",
      "|        Gràcia|   la Vila de Gràcia|               Gràcia|        gracia|    Q852697|           Vila de Gràcia|   la vila de gracia|       Q2741611|\n",
      "+--------------+--------------------+---------------------+--------------+-----------+-------------------------+--------------------+---------------+\n",
      "only showing top 20 rows\n",
      "\n"
     ]
    }
   ],
   "source": [
    "df.show()"
   ]
  },
  {
   "cell_type": "code",
   "execution_count": 40,
   "metadata": {},
   "outputs": [],
   "source": [
    "from pyspark.sql.functions import udf\n",
    "from pyspark.sql.types import StringType\n",
    "from utils import fix_encoding\n",
    "\n",
    "fix_encoding_udf = udf(fix_encoding, StringType())\n",
    "\n",
    "# for each string type column, apply the fix_encoding_udf function\n",
    "for col in df.columns:\n",
    "    if df.schema[col].dataType == StringType():\n",
    "        df = df.withColumn(col, fix_encoding_udf(col))\n"
   ]
  },
  {
   "cell_type": "code",
   "execution_count": 41,
   "metadata": {},
   "outputs": [
    {
     "name": "stderr",
     "output_type": "stream",
     "text": [
      "[Stage 38:>                                                         (0 + 1) / 1]\r"
     ]
    },
    {
     "name": "stdout",
     "output_type": "stream",
     "text": [
      "+--------------+--------------------+---------------------+--------------+-----------+-------------------------+--------------------+---------------+\n",
      "|      district|        neighborhood|district_n_reconciled|    district_n|district_id|neighborhood_n_reconciled|      neighborhood_n|neighborhood_id|\n",
      "+--------------+--------------------+---------------------+--------------+-----------+-------------------------+--------------------+---------------+\n",
      "|      Eixample|la Nova Esquerra ...|             Eixample|      eixample|     Q64124|     La Nova Esquerra ...|la nova esquerra ...|       Q1026658|\n",
      "|    Sant Martí|la Vila Olímpica ...|           Sant Martí|    sant marti|    Q250935|     La Vila Olímpica ...|la vila olimpica ...|       Q1167101|\n",
      "|    Sant Martí|         el Poblenou|           Sant Martí|    sant marti|    Q250935|              El Poblenou|         el poblenou|       Q1404773|\n",
      "|   Sant Andreu|       Baró de Viver|          Sant Andreu|   sant andreu|   Q1650230|            Baró de Viver|       baro de viver|       Q1425291|\n",
      "|Horta-Guinardó|               Horta|       Horta-Guinardó|horta guinardo|   Q1771488|         Horta, Barcelona|               horta|      Q15225338|\n",
      "|    Nou Barris|        les Roquetes|           Nou Barris|    nou barris|   Q1641049|             Les Roquetes|        les roquetes|       Q1627690|\n",
      "|  Ciutat Vella|      el Barri Gòtic|         Ciutat Vella|  ciutat vella|    Q941385|           Gothic Quarter|      el barri gotic|         Q17154|\n",
      "|  Ciutat Vella|            el Raval|         Ciutat Vella|  ciutat vella|    Q941385|                 El Raval|            el raval|       Q1758503|\n",
      "|      Eixample|la Dreta de l'Eix...|             Eixample|      eixample|     Q64124|      Dreta de l'Eixample|la dreta de l eix...|       Q1904302|\n",
      "|        Gràcia|             el Coll|               Gràcia|        gracia|    Q852697|                  el Coll|             el coll|       Q1932090|\n",
      "|        Gràcia|Vallcarca i els P...|               Gràcia|        gracia|    Q852697|     Vallcarca i els P...|vallcarca i els p...|       Q2057331|\n",
      "|      Eixample|       el Fort Pienc|             Eixample|      eixample|     Q64124|               Fort Pienc|       el fort pienc|       Q2107762|\n",
      "|    Sant Martí|el Besòs i el Mar...|           Sant Martí|    sant marti|    Q250935|     El Besòs i el Mar...|el besos i el mar...|       Q2390761|\n",
      "|  Ciutat Vella|Sant Pere, Santa ...|         Ciutat Vella|  ciutat vella|    Q941385|     Sant Pere, Santa ...|sant pere, santa ...|       Q2442135|\n",
      "|      Eixample|  la Sagrada Família|             Eixample|      eixample|     Q64124|          Sagrada Família|  la sagrada familia|       Q2470217|\n",
      "|Sants-Montjuïc|               Sants|       Sants-Montjuïc|sants montjuic|    Q753075|                    Sants|               sants|       Q2476184|\n",
      "|     Les Corts|           Pedralbes|            Les Corts|     les corts|    Q959944|                Pedralbes|           pedralbes|       Q2562684|\n",
      "|    Sant Martí|Diagonal Mar i el...|           Sant Martí|    sant marti|    Q250935|     Diagonal Mar i el...|diagonal mar i el...|       Q2736444|\n",
      "|    Nou Barris|        la Guineueta|           Nou Barris|    nou barris|   Q1641049|             La Guineueta|        la guineueta|       Q2736697|\n",
      "|        Gràcia|   la Vila de Gràcia|               Gràcia|        gracia|    Q852697|           Vila de Gràcia|   la vila de gracia|       Q2741611|\n",
      "+--------------+--------------------+---------------------+--------------+-----------+-------------------------+--------------------+---------------+\n",
      "only showing top 20 rows\n",
      "\n"
     ]
    },
    {
     "name": "stderr",
     "output_type": "stream",
     "text": [
      "Error decoding: 'utf-8' codec can't decode byte 0xed in position 9: unexpected end of data. Trying ftfy...\n",
      "Error decoding: 'utf-8' codec can't decode byte 0xed in position 10: invalid continuation byte. Trying ftfy...\n",
      "Error decoding: 'utf-8' codec can't decode byte 0xed in position 9: unexpected end of data. Trying ftfy...\n",
      "Error decoding: 'utf-8' codec can't decode byte 0xed in position 10: invalid continuation byte. Trying ftfy...\n",
      "Error decoding: 'utf-8' codec can't decode byte 0xed in position 9: unexpected end of data. Trying ftfy...\n",
      "Error decoding: 'utf-8' codec can't decode byte 0xed in position 9: unexpected end of data. Trying ftfy...\n",
      "Error decoding: 'utf-8' codec can't decode byte 0xf3 in position 3: invalid continuation byte. Trying ftfy...\n",
      "Error decoding: 'utf-8' codec can't decode byte 0xf3 in position 3: invalid continuation byte. Trying ftfy...\n",
      "Error decoding: 'utf-8' codec can't decode byte 0xf3 in position 13: unexpected end of data. Trying ftfy...\n",
      "Error decoding: 'utf-8' codec can't decode byte 0xf3 in position 13: unexpected end of data. Trying ftfy...\n",
      "Error decoding: 'utf-8' codec can't decode byte 0xf2 in position 10: invalid continuation byte. Trying ftfy...\n",
      "Error decoding: 'utf-8' codec can't decode byte 0xe0 in position 2: invalid continuation byte. Trying ftfy...\n",
      "Error decoding: 'utf-8' codec can't decode byte 0xe0 in position 2: invalid continuation byte. Trying ftfy...\n",
      "Error decoding: 'utf-8' codec can't decode byte 0xe0 in position 2: invalid continuation byte. Trying ftfy...\n",
      "Error decoding: 'utf-8' codec can't decode byte 0xe0 in position 2: invalid continuation byte. Trying ftfy...\n",
      "Error decoding: 'utf-8' codec can't decode byte 0xed in position 9: unexpected end of data. Trying ftfy...\n",
      "Error decoding: 'utf-8' codec can't decode byte 0xf2 in position 6: invalid continuation byte. Trying ftfy...\n",
      "Error decoding: 'utf-8' codec can't decode byte 0xed in position 9: unexpected end of data. Trying ftfy...\n",
      "Error decoding: 'utf-8' codec can't decode byte 0xf2 in position 6: invalid continuation byte. Trying ftfy...\n",
      "Error decoding: 'utf-8' codec can't decode byte 0xed in position 14: invalid continuation byte. Trying ftfy...\n",
      "Error decoding: 'utf-8' codec can't decode byte 0xed in position 11: invalid continuation byte. Trying ftfy...\n",
      "Error decoding: 'utf-8' codec can't decode byte 0xef in position 12: invalid continuation byte. Trying ftfy...\n",
      "Error decoding: 'utf-8' codec can't decode byte 0xef in position 12: invalid continuation byte. Trying ftfy...\n",
      "Error decoding: 'utf-8' codec can't decode byte 0xed in position 9: unexpected end of data. Trying ftfy...\n",
      "Error decoding: 'utf-8' codec can't decode byte 0xed in position 27: invalid continuation byte. Trying ftfy...\n",
      "Error decoding: 'utf-8' codec can't decode byte 0xed in position 9: unexpected end of data. Trying ftfy...\n",
      "Error decoding: 'utf-8' codec can't decode byte 0xed in position 27: invalid continuation byte. Trying ftfy...\n",
      "Error decoding: 'utf-8' codec can't decode byte 0xe0 in position 2: invalid continuation byte. Trying ftfy...\n",
      "Error decoding: 'utf-8' codec can't decode byte 0xe0 in position 13: invalid continuation byte. Trying ftfy...\n",
      "Error decoding: 'utf-8' codec can't decode byte 0xe0 in position 2: invalid continuation byte. Trying ftfy...\n",
      "Error decoding: 'utf-8' codec can't decode byte 0xe0 in position 10: invalid continuation byte. Trying ftfy...\n",
      "Error decoding: 'utf-8' codec can't decode byte 0xed in position 9: unexpected end of data. Trying ftfy...\n",
      "Error decoding: 'utf-8' codec can't decode byte 0xed in position 9: unexpected end of data. Trying ftfy...\n",
      "                                                                                \r"
     ]
    }
   ],
   "source": [
    "df.show()"
   ]
  },
  {
   "cell_type": "markdown",
   "metadata": {},
   "source": [
    "Outlier detection is not relevant here, as this is a simple lookup table."
   ]
  },
  {
   "cell_type": "code",
   "execution_count": 42,
   "metadata": {},
   "outputs": [
    {
     "name": "stdout",
     "output_type": "stream",
     "text": [
      "+--------------+--------------------+---------------------+--------------+-----------+-------------------------+--------------------+---------------+\n",
      "|      district|        neighborhood|district_n_reconciled|    district_n|district_id|neighborhood_n_reconciled|      neighborhood_n|neighborhood_id|\n",
      "+--------------+--------------------+---------------------+--------------+-----------+-------------------------+--------------------+---------------+\n",
      "|      Eixample|la Nova Esquerra ...|             Eixample|      eixample|     Q64124|     La Nova Esquerra ...|la nova esquerra ...|       Q1026658|\n",
      "|    Sant Martí|la Vila Olímpica ...|           Sant Martí|    sant marti|    Q250935|     La Vila Olímpica ...|la vila olimpica ...|       Q1167101|\n",
      "|    Sant Martí|         el Poblenou|           Sant Martí|    sant marti|    Q250935|              El Poblenou|         el poblenou|       Q1404773|\n",
      "|   Sant Andreu|       Baró de Viver|          Sant Andreu|   sant andreu|   Q1650230|            Baró de Viver|       baro de viver|       Q1425291|\n",
      "|Horta-Guinardó|               Horta|       Horta-Guinardó|horta guinardo|   Q1771488|         Horta, Barcelona|               horta|      Q15225338|\n",
      "+--------------+--------------------+---------------------+--------------+-----------+-------------------------+--------------------+---------------+\n",
      "only showing top 5 rows\n",
      "\n"
     ]
    },
    {
     "name": "stderr",
     "output_type": "stream",
     "text": [
      "Error decoding: 'utf-8' codec can't decode byte 0xed in position 9: unexpected end of data. Trying ftfy...\n",
      "Error decoding: 'utf-8' codec can't decode byte 0xed in position 10: invalid continuation byte. Trying ftfy...\n",
      "Error decoding: 'utf-8' codec can't decode byte 0xed in position 9: unexpected end of data. Trying ftfy...\n",
      "Error decoding: 'utf-8' codec can't decode byte 0xed in position 10: invalid continuation byte. Trying ftfy...\n",
      "Error decoding: 'utf-8' codec can't decode byte 0xed in position 9: unexpected end of data. Trying ftfy...\n",
      "Error decoding: 'utf-8' codec can't decode byte 0xed in position 9: unexpected end of data. Trying ftfy...\n",
      "Error decoding: 'utf-8' codec can't decode byte 0xf3 in position 3: invalid continuation byte. Trying ftfy...\n",
      "Error decoding: 'utf-8' codec can't decode byte 0xf3 in position 3: invalid continuation byte. Trying ftfy...\n",
      "Error decoding: 'utf-8' codec can't decode byte 0xf3 in position 13: unexpected end of data. Trying ftfy...\n",
      "Error decoding: 'utf-8' codec can't decode byte 0xf3 in position 13: unexpected end of data. Trying ftfy...\n"
     ]
    }
   ],
   "source": [
    "df.show(5)"
   ]
  },
  {
   "cell_type": "code",
   "execution_count": 43,
   "metadata": {},
   "outputs": [
    {
     "name": "stderr",
     "output_type": "stream",
     "text": [
      "24/05/16 15:57:49 WARN CaseInsensitiveStringMap: Converting duplicated key idfieldlist into CaseInsensitiveStringMap.\n",
      "24/05/16 15:57:49 WARN CaseInsensitiveStringMap: Converting duplicated key upsertDocument into CaseInsensitiveStringMap.\n",
      "24/05/16 15:57:49 WARN CaseInsensitiveStringMap: Converting duplicated key replaceDocument into CaseInsensitiveStringMap.\n",
      "24/05/16 15:57:49 WARN CaseInsensitiveStringMap: Converting duplicated key operationType into CaseInsensitiveStringMap.\n",
      "24/05/16 15:57:49 WARN CaseInsensitiveStringMap: Converting duplicated key writeConcern.w into CaseInsensitiveStringMap.\n",
      "Error decoding: 'utf-8' codec can't decode byte 0xed in position 9: unexpected end of data. Trying ftfy...\n",
      "Error decoding: 'utf-8' codec can't decode byte 0xed in position 10: invalid continuation byte. Trying ftfy...\n",
      "Error decoding: 'utf-8' codec can't decode byte 0xed in position 9: unexpected end of data. Trying ftfy...\n",
      "Error decoding: 'utf-8' codec can't decode byte 0xed in position 10: invalid continuation byte. Trying ftfy...\n",
      "Error decoding: 'utf-8' codec can't decode byte 0xed in position 9: unexpected end of data. Trying ftfy...\n",
      "Error decoding: 'utf-8' codec can't decode byte 0xed in position 9: unexpected end of data. Trying ftfy...\n",
      "Error decoding: 'utf-8' codec can't decode byte 0xf3 in position 3: invalid continuation byte. Trying ftfy...\n",
      "Error decoding: 'utf-8' codec can't decode byte 0xf3 in position 3: invalid continuation byte. Trying ftfy...\n",
      "Error decoding: 'utf-8' codec can't decode byte 0xf3 in position 13: unexpected end of data. Trying ftfy...\n",
      "Error decoding: 'utf-8' codec can't decode byte 0xf3 in position 13: unexpected end of data. Trying ftfy...\n",
      "Error decoding: 'utf-8' codec can't decode byte 0xf2 in position 10: invalid continuation byte. Trying ftfy...\n",
      "Error decoding: 'utf-8' codec can't decode byte 0xe0 in position 2: invalid continuation byte. Trying ftfy...\n",
      "Error decoding: 'utf-8' codec can't decode byte 0xe0 in position 2: invalid continuation byte. Trying ftfy...\n",
      "Error decoding: 'utf-8' codec can't decode byte 0xe0 in position 2: invalid continuation byte. Trying ftfy...\n",
      "Error decoding: 'utf-8' codec can't decode byte 0xe0 in position 2: invalid continuation byte. Trying ftfy...\n",
      "Error decoding: 'utf-8' codec can't decode byte 0xed in position 9: unexpected end of data. Trying ftfy...\n",
      "Error decoding: 'utf-8' codec can't decode byte 0xf2 in position 6: invalid continuation byte. Trying ftfy...\n",
      "Error decoding: 'utf-8' codec can't decode byte 0xed in position 9: unexpected end of data. Trying ftfy...\n",
      "Error decoding: 'utf-8' codec can't decode byte 0xf2 in position 6: invalid continuation byte. Trying ftfy...\n",
      "Error decoding: 'utf-8' codec can't decode byte 0xed in position 14: invalid continuation byte. Trying ftfy...\n",
      "Error decoding: 'utf-8' codec can't decode byte 0xed in position 11: invalid continuation byte. Trying ftfy...\n",
      "Error decoding: 'utf-8' codec can't decode byte 0xef in position 12: invalid continuation byte. Trying ftfy...\n",
      "Error decoding: 'utf-8' codec can't decode byte 0xef in position 12: invalid continuation byte. Trying ftfy...\n",
      "Error decoding: 'utf-8' codec can't decode byte 0xed in position 9: unexpected end of data. Trying ftfy...\n",
      "Error decoding: 'utf-8' codec can't decode byte 0xed in position 27: invalid continuation byte. Trying ftfy...\n",
      "Error decoding: 'utf-8' codec can't decode byte 0xed in position 9: unexpected end of data. Trying ftfy...\n",
      "Error decoding: 'utf-8' codec can't decode byte 0xed in position 27: invalid continuation byte. Trying ftfy...\n",
      "Error decoding: 'utf-8' codec can't decode byte 0xe0 in position 2: invalid continuation byte. Trying ftfy...\n",
      "Error decoding: 'utf-8' codec can't decode byte 0xe0 in position 13: invalid continuation byte. Trying ftfy...\n",
      "Error decoding: 'utf-8' codec can't decode byte 0xe0 in position 2: invalid continuation byte. Trying ftfy...\n",
      "Error decoding: 'utf-8' codec can't decode byte 0xe0 in position 10: invalid continuation byte. Trying ftfy...\n",
      "Error decoding: 'utf-8' codec can't decode byte 0xed in position 9: unexpected end of data. Trying ftfy...\n",
      "Error decoding: 'utf-8' codec can't decode byte 0xed in position 9: unexpected end of data. Trying ftfy...\n",
      "Error decoding: 'utf-8' codec can't decode byte 0xe0 in position 2: invalid continuation byte. Trying ftfy...\n",
      "Error decoding: 'utf-8' codec can't decode byte 0xe0 in position 25: invalid continuation byte. Trying ftfy...\n",
      "Error decoding: 'utf-8' codec can't decode byte 0xe0 in position 2: invalid continuation byte. Trying ftfy...\n",
      "Error decoding: 'utf-8' codec can't decode byte 0xe0 in position 22: invalid continuation byte. Trying ftfy...\n",
      "Error decoding: 'utf-8' codec can't decode byte 0xe0 in position 5: invalid continuation byte. Trying ftfy...\n",
      "Error decoding: 'utf-8' codec can't decode byte 0xe0 in position 5: unexpected end of data. Trying ftfy...\n",
      "Error decoding: 'utf-8' codec can't decode byte 0xe0 in position 5: invalid continuation byte. Trying ftfy...\n",
      "Error decoding: 'utf-8' codec can't decode byte 0xe0 in position 5: unexpected end of data. Trying ftfy...\n",
      "Error decoding: 'utf-8' codec can't decode byte 0xf3 in position 13: unexpected end of data. Trying ftfy...\n",
      "Error decoding: 'utf-8' codec can't decode byte 0xf3 in position 10: unexpected end of data. Trying ftfy...\n",
      "Error decoding: 'utf-8' codec can't decode byte 0xf3 in position 13: unexpected end of data. Trying ftfy...\n",
      "Error decoding: 'utf-8' codec can't decode byte 0xf3 in position 10: unexpected end of data. Trying ftfy...\n",
      "Error decoding: 'utf-8' codec can't decode byte 0xed in position 9: unexpected end of data. Trying ftfy...\n",
      "Error decoding: 'utf-8' codec can't decode byte 0xed in position 9: unexpected end of data. Trying ftfy...\n",
      "Error decoding: 'utf-8' codec can't decode byte 0xed in position 9: unexpected end of data. Trying ftfy...\n",
      "Error decoding: 'utf-8' codec can't decode byte 0xed in position 9: unexpected end of data. Trying ftfy...\n",
      "Error decoding: 'utf-8' codec can't decode byte 0xf3 in position 13: unexpected end of data. Trying ftfy...\n",
      "Error decoding: 'utf-8' codec can't decode byte 0xf3 in position 15: unexpected end of data. Trying ftfy...\n",
      "Error decoding: 'utf-8' codec can't decode byte 0xf3 in position 13: unexpected end of data. Trying ftfy...\n",
      "Error decoding: 'utf-8' codec can't decode byte 0xf3 in position 15: unexpected end of data. Trying ftfy...\n",
      "Error decoding: 'utf-8' codec can't decode byte 0xf3 in position 13: unexpected end of data. Trying ftfy...\n",
      "Error decoding: 'utf-8' codec can't decode byte 0xf3 in position 13: unexpected end of data. Trying ftfy...\n",
      "Error decoding: 'utf-8' codec can't decode byte 0xe0 in position 5: invalid continuation byte. Trying ftfy...\n",
      "Error decoding: 'utf-8' codec can't decode byte 0xe0 in position 5: invalid continuation byte. Trying ftfy...\n",
      "Error decoding: 'utf-8' codec can't decode byte 0xf3 in position 13: unexpected end of data. Trying ftfy...\n",
      "Error decoding: 'utf-8' codec can't decode byte 0xf3 in position 13: unexpected end of data. Trying ftfy...\n",
      "Error decoding: 'utf-8' codec can't decode byte 0xf3 in position 13: unexpected end of data. Trying ftfy...\n",
      "Error decoding: 'utf-8' codec can't decode byte 0xf3 in position 13: unexpected end of data. Trying ftfy...\n",
      "Error decoding: 'utf-8' codec can't decode byte 0xf3 in position 13: unexpected end of data. Trying ftfy...\n",
      "Error decoding: 'utf-8' codec can't decode byte 0xed in position 8: invalid continuation byte. Trying ftfy...\n",
      "Error decoding: 'utf-8' codec can't decode byte 0xf3 in position 13: unexpected end of data. Trying ftfy...\n",
      "Error decoding: 'utf-8' codec can't decode byte 0xed in position 8: invalid continuation byte. Trying ftfy...\n",
      "Error decoding: 'utf-8' codec can't decode byte 0xe0 in position 5: invalid continuation byte. Trying ftfy...\n",
      "Error decoding: 'utf-8' codec can't decode byte 0xe0 in position 5: invalid continuation byte. Trying ftfy...\n",
      "Error decoding: 'utf-8' codec can't decode byte 0xf3 in position 13: unexpected end of data. Trying ftfy...\n",
      "Error decoding: 'utf-8' codec can't decode byte 0xf3 in position 13: unexpected end of data. Trying ftfy...\n",
      "Error decoding: 'utf-8' codec can't decode byte 0xe0 in position 2: invalid continuation byte. Trying ftfy...\n",
      "Error decoding: 'utf-8' codec can't decode byte 0xe0 in position 2: invalid continuation byte. Trying ftfy...\n",
      "Error decoding: 'utf-8' codec can't decode byte 0xf3 in position 13: unexpected end of data. Trying ftfy...\n",
      "Error decoding: 'utf-8' codec can't decode byte 0xf3 in position 13: unexpected end of data. Trying ftfy...\n",
      "Error decoding: 'utf-8' codec can't decode byte 0xf3 in position 13: unexpected end of data. Trying ftfy...\n",
      "Error decoding: 'utf-8' codec can't decode byte 0xf3 in position 13: unexpected end of data. Trying ftfy...\n",
      "Error decoding: 'utf-8' codec can't decode byte 0xe0 in position 5: invalid continuation byte. Trying ftfy...\n",
      "Error decoding: 'utf-8' codec can't decode byte 0xe0 in position 5: invalid continuation byte. Trying ftfy...\n",
      "Error decoding: 'latin-1' codec can't encode character '\\u2013' in position 13: ordinal not in range(256). Trying ftfy...\n",
      "Error decoding: 'utf-8' codec can't decode byte 0xf3 in position 13: unexpected end of data. Trying ftfy...\n",
      "Error decoding: 'utf-8' codec can't decode byte 0xf3 in position 7: unexpected end of data. Trying ftfy...\n",
      "Error decoding: 'utf-8' codec can't decode byte 0xf3 in position 13: unexpected end of data. Trying ftfy...\n",
      "Error decoding: 'utf-8' codec can't decode byte 0xf3 in position 7: unexpected end of data. Trying ftfy...\n",
      "Error decoding: 'utf-8' codec can't decode byte 0xe0 in position 5: invalid continuation byte. Trying ftfy...\n",
      "Error decoding: 'utf-8' codec can't decode byte 0xf3 in position 19: unexpected end of data. Trying ftfy...\n",
      "Error decoding: 'utf-8' codec can't decode byte 0xe0 in position 5: invalid continuation byte. Trying ftfy...\n",
      "Error decoding: 'utf-8' codec can't decode byte 0xf3 in position 19: unexpected end of data. Trying ftfy...\n",
      "Error decoding: 'utf-8' codec can't decode byte 0xe0 in position 5: invalid continuation byte. Trying ftfy...\n",
      "Error decoding: 'utf-8' codec can't decode byte 0xe0 in position 5: invalid continuation byte. Trying ftfy...\n",
      "Error decoding: 'latin-1' codec can't encode character '\\u2013' in position 13: ordinal not in range(256). Trying ftfy...\n",
      "Error decoding: 'utf-8' codec can't decode byte 0xef in position 12: invalid continuation byte. Trying ftfy...\n",
      "Error decoding: 'utf-8' codec can't decode byte 0xef in position 12: invalid continuation byte. Trying ftfy...\n",
      "Error decoding: 'utf-8' codec can't decode byte 0xef in position 12: invalid continuation byte. Trying ftfy...\n",
      "Error decoding: 'utf-8' codec can't decode byte 0xef in position 12: invalid continuation byte. Trying ftfy...\n",
      "Error decoding: 'utf-8' codec can't decode byte 0xef in position 12: invalid continuation byte. Trying ftfy...\n",
      "Error decoding: 'utf-8' codec can't decode byte 0xef in position 12: invalid continuation byte. Trying ftfy...\n",
      "Error decoding: 'utf-8' codec can't decode byte 0xef in position 12: invalid continuation byte. Trying ftfy...\n",
      "Error decoding: 'utf-8' codec can't decode byte 0xef in position 12: invalid continuation byte. Trying ftfy...\n",
      "Error decoding: 'utf-8' codec can't decode byte 0xf3 in position 9: unexpected end of data. Trying ftfy...\n",
      "Error decoding: 'utf-8' codec can't decode byte 0xf3 in position 9: unexpected end of data. Trying ftfy...\n",
      "Error decoding: 'utf-8' codec can't decode byte 0xef in position 12: invalid continuation byte. Trying ftfy...\n",
      "Error decoding: 'utf-8' codec can't decode byte 0xef in position 12: invalid continuation byte. Trying ftfy...\n",
      "Error decoding: 'utf-8' codec can't decode byte 0xef in position 12: invalid continuation byte. Trying ftfy...\n",
      "Error decoding: 'utf-8' codec can't decode byte 0xef in position 12: invalid continuation byte. Trying ftfy...\n",
      "Error decoding: 'utf-8' codec can't decode byte 0xed in position 9: unexpected end of data. Trying ftfy...\n",
      "Error decoding: 'utf-8' codec can't decode byte 0xed in position 9: invalid continuation byte. Trying ftfy...\n",
      "Error decoding: 'utf-8' codec can't decode byte 0xed in position 9: unexpected end of data. Trying ftfy...\n",
      "Error decoding: 'utf-8' codec can't decode byte 0xed in position 9: invalid continuation byte. Trying ftfy...\n",
      "Error decoding: 'utf-8' codec can't decode byte 0xe9 in position 8: invalid continuation byte. Trying ftfy...\n",
      "Error decoding: 'utf-8' codec can't decode byte 0xe9 in position 8: invalid continuation byte. Trying ftfy...\n",
      "Error decoding: 'utf-8' codec can't decode byte 0xf3 in position 6: invalid continuation byte. Trying ftfy...\n",
      "Error decoding: 'utf-8' codec can't decode byte 0xf3 in position 6: invalid continuation byte. Trying ftfy...\n",
      "Error decoding: 'utf-8' codec can't decode byte 0xed in position 9: unexpected end of data. Trying ftfy...\n",
      "Error decoding: 'utf-8' codec can't decode byte 0xed in position 9: unexpected end of data. Trying ftfy...\n",
      "Error decoding: 'utf-8' codec can't decode byte 0xed in position 9: unexpected end of data. Trying ftfy...\n",
      "Error decoding: 'utf-8' codec can't decode byte 0xe7 in position 6: invalid continuation byte. Trying ftfy...\n",
      "Error decoding: 'utf-8' codec can't decode byte 0xed in position 9: unexpected end of data. Trying ftfy...\n",
      "Error decoding: 'utf-8' codec can't decode byte 0xe7 in position 6: invalid continuation byte. Trying ftfy...\n",
      "Error decoding: 'utf-8' codec can't decode byte 0xef in position 12: invalid continuation byte. Trying ftfy...\n",
      "Error decoding: 'utf-8' codec can't decode byte 0xef in position 12: invalid continuation byte. Trying ftfy...\n",
      "                                                                                \r"
     ]
    }
   ],
   "source": [
    "write_config = {\n",
    "    \"writeConcern.w\": \"majority\",\n",
    "    \"replaceDocument\": \"false\",\n",
    "    \"idFieldList\": \"neighborhood_id\",  # Specify the field to use for upsert\n",
    "    \"operationType\": \"update\",  # Specify the update operation\n",
    "    \"upsertDocument\": \"true\"  # Enable upsert logic\n",
    "}\n",
    "\n",
    "df.write.format(\"mongodb\") \\\n",
    "    .mode(\"append\") \\\n",
    "    .option(\"database\", \"bdm\") \\\n",
    "    .option(\"collection\", \"location-lookup\") \\\n",
    "    .options(**write_config) \\\n",
    "    .save()"
   ]
  },
  {
   "cell_type": "markdown",
   "metadata": {},
   "source": [
    "## Air quality lookup tables"
   ]
  },
  {
   "cell_type": "code",
   "execution_count": 83,
   "metadata": {},
   "outputs": [],
   "source": [
    "lookup_dir = \"../data/persistent-landing-zone/lookup\"\n",
    "# get files\n",
    "files = os.listdir(lookup_dir)\n",
    "# keep only those that start with a year (4 digits)\n",
    "files = [file for file in files if file[:4].isdigit()]\n",
    "years = [file[:4] for file in files]\n",
    "# add the path to the files\n",
    "files = [f\"{lookup_dir}/{file}\" for file in files]\n",
    "# create a list of dataframes\n",
    "airquality_dfs = {}\n",
    "for file, year in zip(files, years):\n",
    "    # read the file\n",
    "    df = spark.read.format(\"avro\").load(file)\n",
    "    # append the dataframe to the list\n",
    "    airquality_dfs[year] = df"
   ]
  },
  {
   "cell_type": "code",
   "execution_count": 84,
   "metadata": {},
   "outputs": [],
   "source": [
    "# change all column names to lowercase\n",
    "for year in airquality_dfs:\n",
    "    df = airquality_dfs[year]\n",
    "    for col in df.columns:\n",
    "        df = df.withColumnRenamed(col, col.lower())\n",
    "    airquality_dfs[year] = df"
   ]
  },
  {
   "cell_type": "code",
   "execution_count": 85,
   "metadata": {},
   "outputs": [
    {
     "name": "stdout",
     "output_type": "stream",
     "text": [
      "Schema of 2023 is different from schema of 2018\n",
      "estacio != nom_cabina\n",
      "IntegerType() != StringType()\n",
      "True != True\n",
      "{} != {}\n",
      "\n",
      "\n",
      "nom_cabina != codi_dtes\n",
      "StringType() != StringType()\n",
      "True != True\n",
      "{} != {}\n",
      "\n",
      "\n",
      "codi_dtes != zqa\n",
      "StringType() != IntegerType()\n",
      "True != True\n",
      "{} != {}\n",
      "\n",
      "\n",
      "zqa != codi_eoi\n",
      "IntegerType() != IntegerType()\n",
      "True != True\n",
      "{} != {}\n",
      "\n",
      "\n",
      "codi_eoi != longitud\n",
      "IntegerType() != DoubleType()\n",
      "True != True\n",
      "{} != {}\n",
      "\n",
      "\n",
      "longitud != latitud\n",
      "DoubleType() != DoubleType()\n",
      "True != True\n",
      "{} != {}\n",
      "\n",
      "\n",
      "latitud != ubicacio\n",
      "DoubleType() != StringType()\n",
      "True != True\n",
      "{} != {}\n",
      "\n",
      "\n",
      "ubicacio != codi_districte\n",
      "StringType() != IntegerType()\n",
      "True != True\n",
      "{} != {}\n",
      "\n",
      "\n",
      "codi_districte != nom_districte\n",
      "IntegerType() != StringType()\n",
      "True != True\n",
      "{} != {}\n",
      "\n",
      "\n",
      "nom_districte != codi_barri\n",
      "StringType() != IntegerType()\n",
      "True != True\n",
      "{} != {}\n",
      "\n",
      "\n",
      "codi_barri != nom_barri\n",
      "IntegerType() != StringType()\n",
      "True != True\n",
      "{} != {}\n",
      "\n",
      "\n",
      "nom_barri != ocupacio_sol\n",
      "StringType() != StringType()\n",
      "True != True\n",
      "{} != {}\n",
      "\n",
      "\n",
      "clas_1 != emissions_properes\n",
      "StringType() != StringType()\n",
      "True != True\n",
      "{} != {}\n",
      "\n",
      "\n",
      "clas_2 != contaminant_1\n",
      "StringType() != StringType()\n",
      "True != True\n",
      "{} != {}\n",
      "\n",
      "\n",
      "codi_contaminant != contaminant_2\n",
      "IntegerType() != StringType()\n",
      "True != True\n",
      "{} != {}\n",
      "\n",
      "\n",
      "Schema of 2022 is different from schema of 2018\n",
      "estacio != nom_cabina\n",
      "IntegerType() != StringType()\n",
      "True != True\n",
      "{} != {}\n",
      "\n",
      "\n",
      "nom_cabina != codi_dtes\n",
      "StringType() != StringType()\n",
      "True != True\n",
      "{} != {}\n",
      "\n",
      "\n",
      "codi_dtes != zqa\n",
      "StringType() != IntegerType()\n",
      "True != True\n",
      "{} != {}\n",
      "\n",
      "\n",
      "zqa != codi_eoi\n",
      "IntegerType() != IntegerType()\n",
      "True != True\n",
      "{} != {}\n",
      "\n",
      "\n",
      "codi_eoi != longitud\n",
      "IntegerType() != DoubleType()\n",
      "True != True\n",
      "{} != {}\n",
      "\n",
      "\n",
      "longitud != latitud\n",
      "DoubleType() != DoubleType()\n",
      "True != True\n",
      "{} != {}\n",
      "\n",
      "\n",
      "latitud != ubicacio\n",
      "DoubleType() != StringType()\n",
      "True != True\n",
      "{} != {}\n",
      "\n",
      "\n",
      "ubicacio != codi_districte\n",
      "StringType() != IntegerType()\n",
      "True != True\n",
      "{} != {}\n",
      "\n",
      "\n",
      "codi_districte != nom_districte\n",
      "IntegerType() != StringType()\n",
      "True != True\n",
      "{} != {}\n",
      "\n",
      "\n",
      "nom_districte != codi_barri\n",
      "StringType() != IntegerType()\n",
      "True != True\n",
      "{} != {}\n",
      "\n",
      "\n",
      "codi_barri != nom_barri\n",
      "IntegerType() != StringType()\n",
      "True != True\n",
      "{} != {}\n",
      "\n",
      "\n",
      "nom_barri != ocupacio_sol\n",
      "StringType() != StringType()\n",
      "True != True\n",
      "{} != {}\n",
      "\n",
      "\n",
      "clas_1 != emissions_properes\n",
      "StringType() != StringType()\n",
      "True != True\n",
      "{} != {}\n",
      "\n",
      "\n",
      "clas_2 != contaminant_1\n",
      "StringType() != StringType()\n",
      "True != True\n",
      "{} != {}\n",
      "\n",
      "\n",
      "codi_contaminant != contaminant_2\n",
      "IntegerType() != StringType()\n",
      "True != True\n",
      "{} != {}\n",
      "\n",
      "\n",
      "Schema of 2018 is different from schema of 2021\n",
      "nom_cabina != estacio\n",
      "StringType() != IntegerType()\n",
      "True != True\n",
      "{} != {}\n",
      "\n",
      "\n",
      "codi_dtes != nom_cabina\n",
      "StringType() != StringType()\n",
      "True != True\n",
      "{} != {}\n",
      "\n",
      "\n",
      "zqa != codi_dtes\n",
      "IntegerType() != StringType()\n",
      "True != True\n",
      "{} != {}\n",
      "\n",
      "\n",
      "codi_eoi != zqa\n",
      "IntegerType() != IntegerType()\n",
      "True != True\n",
      "{} != {}\n",
      "\n",
      "\n",
      "longitud != codi_eoi\n",
      "DoubleType() != IntegerType()\n",
      "True != True\n",
      "{} != {}\n",
      "\n",
      "\n",
      "latitud != longitud\n",
      "DoubleType() != DoubleType()\n",
      "True != True\n",
      "{} != {}\n",
      "\n",
      "\n",
      "ubicacio != latitud\n",
      "StringType() != DoubleType()\n",
      "True != True\n",
      "{} != {}\n",
      "\n",
      "\n",
      "codi_districte != ubicacio\n",
      "IntegerType() != StringType()\n",
      "True != True\n",
      "{} != {}\n",
      "\n",
      "\n",
      "nom_districte != codi_districte\n",
      "StringType() != IntegerType()\n",
      "True != True\n",
      "{} != {}\n",
      "\n",
      "\n",
      "codi_barri != nom_districte\n",
      "IntegerType() != StringType()\n",
      "True != True\n",
      "{} != {}\n",
      "\n",
      "\n",
      "nom_barri != codi_barri\n",
      "StringType() != IntegerType()\n",
      "True != True\n",
      "{} != {}\n",
      "\n",
      "\n",
      "ocupacio_sol != nom_barri\n",
      "StringType() != StringType()\n",
      "True != True\n",
      "{} != {}\n",
      "\n",
      "\n",
      "emissions_properes != clas_1\n",
      "StringType() != StringType()\n",
      "True != True\n",
      "{} != {}\n",
      "\n",
      "\n",
      "contaminant_1 != clas_2\n",
      "StringType() != StringType()\n",
      "True != True\n",
      "{} != {}\n",
      "\n",
      "\n",
      "contaminant_2 != codi_contaminant\n",
      "StringType() != IntegerType()\n",
      "True != True\n",
      "{} != {}\n",
      "\n",
      "\n",
      "Schema of 2018 is different from schema of 2019\n",
      "nom_cabina != estacio\n",
      "StringType() != IntegerType()\n",
      "True != True\n",
      "{} != {}\n",
      "\n",
      "\n",
      "codi_dtes != nom_cabina\n",
      "StringType() != StringType()\n",
      "True != True\n",
      "{} != {}\n",
      "\n",
      "\n",
      "zqa != codi_dtes\n",
      "IntegerType() != StringType()\n",
      "True != True\n",
      "{} != {}\n",
      "\n",
      "\n",
      "codi_eoi != zqa\n",
      "IntegerType() != IntegerType()\n",
      "True != True\n",
      "{} != {}\n",
      "\n",
      "\n",
      "longitud != codi_eoi\n",
      "DoubleType() != IntegerType()\n",
      "True != True\n",
      "{} != {}\n",
      "\n",
      "\n",
      "latitud != longitud\n",
      "DoubleType() != DoubleType()\n",
      "True != True\n",
      "{} != {}\n",
      "\n",
      "\n",
      "ubicacio != latitud\n",
      "StringType() != DoubleType()\n",
      "True != True\n",
      "{} != {}\n",
      "\n",
      "\n",
      "codi_districte != ubicacio\n",
      "IntegerType() != StringType()\n",
      "True != True\n",
      "{} != {}\n",
      "\n",
      "\n",
      "nom_districte != codi_districte\n",
      "StringType() != IntegerType()\n",
      "True != True\n",
      "{} != {}\n",
      "\n",
      "\n",
      "codi_barri != nom_districte\n",
      "IntegerType() != StringType()\n",
      "True != True\n",
      "{} != {}\n",
      "\n",
      "\n",
      "nom_barri != codi_barri\n",
      "StringType() != IntegerType()\n",
      "True != True\n",
      "{} != {}\n",
      "\n",
      "\n",
      "ocupacio_sol != nom_barri\n",
      "StringType() != StringType()\n",
      "True != True\n",
      "{} != {}\n",
      "\n",
      "\n",
      "emissions_properes != clas_1\n",
      "StringType() != StringType()\n",
      "True != True\n",
      "{} != {}\n",
      "\n",
      "\n",
      "contaminant_1 != clas_2\n",
      "StringType() != StringType()\n",
      "True != True\n",
      "{} != {}\n",
      "\n",
      "\n",
      "contaminant_2 != codi_contaminant\n",
      "StringType() != IntegerType()\n",
      "True != True\n",
      "{} != {}\n",
      "\n",
      "\n"
     ]
    }
   ],
   "source": [
    "checked_pairs = []\n",
    "# check pairwise schema equality\n",
    "for year1 in airquality_dfs:\n",
    "    for year2 in airquality_dfs:\n",
    "        if year1 != year2 and airquality_dfs[year1].schema != airquality_dfs[year2].schema and (year1, year2) not in checked_pairs:\n",
    "            checked_pairs.append((year1, year2))\n",
    "            checked_pairs.append((year2, year1))\n",
    "            print(f\"Schema of {year1} is different from schema of {year2}\")\n",
    "            # print the diff\n",
    "            schema1 = airquality_dfs[year1].schema\n",
    "            schema2 = airquality_dfs[year2].schema\n",
    "\n",
    "            for field1, field2 in zip(schema1, schema2):\n",
    "                if field1 != field2:\n",
    "                    print(f\"{field1.name} != {field2.name}\")\n",
    "                    print(f\"{field1.dataType} != {field2.dataType}\")\n",
    "                    print(f\"{field1.nullable} != {field2.nullable}\")\n",
    "                    print(f\"{field1.metadata} != {field2.metadata}\")\n",
    "                    print(\"\\n\")"
   ]
  },
  {
   "cell_type": "code",
   "execution_count": 86,
   "metadata": {},
   "outputs": [],
   "source": [
    "# print the schema of 2018 and 2019\n",
    "df_2018 = airquality_dfs[\"2018\"]\n",
    "df_2019 = airquality_dfs[\"2019\"]"
   ]
  },
  {
   "cell_type": "code",
   "execution_count": 87,
   "metadata": {},
   "outputs": [
    {
     "name": "stdout",
     "output_type": "stream",
     "text": [
      "root\n",
      " |-- nom_cabina: string (nullable = true)\n",
      " |-- codi_dtes: string (nullable = true)\n",
      " |-- zqa: integer (nullable = true)\n",
      " |-- codi_eoi: integer (nullable = true)\n",
      " |-- longitud: double (nullable = true)\n",
      " |-- latitud: double (nullable = true)\n",
      " |-- ubicacio: string (nullable = true)\n",
      " |-- codi_districte: integer (nullable = true)\n",
      " |-- nom_districte: string (nullable = true)\n",
      " |-- codi_barri: integer (nullable = true)\n",
      " |-- nom_barri: string (nullable = true)\n",
      " |-- ocupacio_sol: string (nullable = true)\n",
      " |-- emissions_properes: string (nullable = true)\n",
      " |-- contaminant_1: string (nullable = true)\n",
      " |-- contaminant_2: string (nullable = true)\n",
      " |-- contaminant_3: string (nullable = true)\n",
      "\n"
     ]
    }
   ],
   "source": [
    "df_2018.printSchema()"
   ]
  },
  {
   "cell_type": "code",
   "execution_count": 88,
   "metadata": {},
   "outputs": [
    {
     "name": "stdout",
     "output_type": "stream",
     "text": [
      "root\n",
      " |-- estacio: integer (nullable = true)\n",
      " |-- nom_cabina: string (nullable = true)\n",
      " |-- codi_dtes: string (nullable = true)\n",
      " |-- zqa: integer (nullable = true)\n",
      " |-- codi_eoi: integer (nullable = true)\n",
      " |-- longitud: double (nullable = true)\n",
      " |-- latitud: double (nullable = true)\n",
      " |-- ubicacio: string (nullable = true)\n",
      " |-- codi_districte: integer (nullable = true)\n",
      " |-- nom_districte: string (nullable = true)\n",
      " |-- codi_barri: integer (nullable = true)\n",
      " |-- nom_barri: string (nullable = true)\n",
      " |-- clas_1: string (nullable = true)\n",
      " |-- clas_2: string (nullable = true)\n",
      " |-- codi_contaminant: integer (nullable = true)\n",
      "\n"
     ]
    }
   ],
   "source": [
    "df_2019.printSchema()"
   ]
  },
  {
   "cell_type": "code",
   "execution_count": 89,
   "metadata": {},
   "outputs": [
    {
     "name": "stdout",
     "output_type": "stream",
     "text": [
      "+--------------------+-------+\n",
      "|          nom_cabina|estacio|\n",
      "+--------------------+-------+\n",
      "|Barcelona - Eixample|     43|\n",
      "|Barcelona - Palau...|     57|\n",
      "|Barcelona - Poblenou|      4|\n",
      "|Barcelona - Ciuta...|     50|\n",
      "|   Barcelona - Sants|     42|\n",
      "| Barcelona - GrÃ cia|     44|\n",
      "|Barcelona - Vall ...|     54|\n",
      "+--------------------+-------+\n",
      "\n"
     ]
    },
    {
     "data": {
      "text/plain": [
       "{'Barcelona - Eixample': 43,\n",
       " 'Barcelona - Palau Reial': 57,\n",
       " 'Barcelona - Poblenou': 4,\n",
       " 'Barcelona - Ciutadella': 50,\n",
       " 'Barcelona - Sants': 42,\n",
       " 'Barcelona - GrÃ\\xa0cia': 44,\n",
       " 'Barcelona - Vall Hebron': 54}"
      ]
     },
     "execution_count": 89,
     "metadata": {},
     "output_type": "execute_result"
    }
   ],
   "source": [
    "# get unique nom_cabina; Estacio value pairs\n",
    "df_2019.select(\"nom_cabina\", \"estacio\").distinct().show()\n",
    "\n",
    "# save to a dict\n",
    "cabina_estacio_2019 = df_2019.select(\"nom_cabina\", \"estacio\").distinct().rdd.collectAsMap()\n",
    "cabina_estacio_2019"
   ]
  },
  {
   "cell_type": "code",
   "execution_count": 90,
   "metadata": {},
   "outputs": [
    {
     "name": "stdout",
     "output_type": "stream",
     "text": [
      "+--------------------+---------+---+--------+--------+-------+--------------------+--------------+--------------+----------+--------------------+------------+------------------+-------------+-------------+-------------+-------+\n",
      "|          nom_cabina|codi_dtes|zqa|codi_eoi|longitud|latitud|            ubicacio|codi_districte| nom_districte|codi_barri|           nom_barri|ocupacio_sol|emissions_properes|contaminant_1|contaminant_2|contaminant_3|estacio|\n",
      "+--------------------+---------+---+--------+--------+-------+--------------------+--------------+--------------+----------+--------------------+------------+------------------+-------------+-------------+-------------+-------+\n",
      "|Barcelona - Ciuta...|       IL|  1| 8019050|  2.1874|41.3864|Parc de la Ciutad...|             1|  Ciutat Vella|         4|Sant Pere, Santa ...|      Urbana|              Fons|          NO2|           O3|         NULL|     50|\n",
      "|Barcelona - Eixample|       IH|  1| 8019043|  2.1538|41.3853|Av. Roma - c/ Com...|             5|      Eixample|         9|la Nova Esquerra ...|      Urbana|          TrÃ nsit|          NO2|           O3|         PM10|     43|\n",
      "| Barcelona - GrÃ cia|       IJ|  1| 8019044|  2.1534|41.3987|PlaÃ§a GalÂ·la Pl...|             6|        Gracia|        31|   la Vila de Gracia|      Urbana|          TrÃ nsit|          NO2|           O3|         PM10|     44|\n",
      "|Barcelona - Palau...|       IZ|  1| 8019057|  2.1151|41.3875|c/ John Maynard K...|             4|     Les Corts|        21|           Pedralbes|      Urbana|              Fons|          NO2|           O3|         PM10|     57|\n",
      "|Barcelona - Poblenou|       I2|  1| 8019004|  2.2045|41.4039|PlaÃ§a Josep True...|            10|    Sant Marti|        68|         el Poblenou|      Urbana|              Fons|          NO2|         NULL|         PM10|      4|\n",
      "|   Barcelona - Sants|       ID|  1| 8019042|  2.1331|41.3788|Jardins de Can Ma...|             3|Sants-Montjuic|        18|               Sants|      Urbana|              Fons|          NO2|         NULL|         NULL|     42|\n",
      "|Barcelona - Vall ...|       IN|  1| 8019054|   2.148|41.4261|Parc de la Vall d...|             7|Horta-Guinardo|        41|    la Vall d'Hebron|      Urbana|              Fons|          NO2|           O3|         PM10|     54|\n",
      "+--------------------+---------+---+--------+--------+-------+--------------------+--------------+--------------+----------+--------------------+------------+------------------+-------------+-------------+-------------+-------+\n",
      "\n"
     ]
    }
   ],
   "source": [
    "# add Estacio column to 2018 dataframe\n",
    "from pyspark.sql.functions import lit\n",
    "from pyspark.sql.functions import udf\n",
    "from pyspark.sql.types import StringType\n",
    "\n",
    "df_2018 = df_2018.withColumn(\"estacio\", lit(None))\n",
    "\n",
    "# fill in the Estacio column with the values from the dictionary\n",
    "def fill_estacio(nom_cabina):\n",
    "    return cabina_estacio_2019.get(nom_cabina, None)\n",
    "\n",
    "fill_estacio_udf = udf(fill_estacio, StringType())\n",
    "\n",
    "df_2018 = df_2018.withColumn(\"estacio\", fill_estacio_udf(\"nom_cabina\"))\n",
    "df_2018.show()"
   ]
  },
  {
   "cell_type": "code",
   "execution_count": 91,
   "metadata": {},
   "outputs": [
    {
     "name": "stdout",
     "output_type": "stream",
     "text": [
      "+-------+--------------------+---------+---+--------+--------+-------+--------------------+--------------+-------------+----------+--------------------+------+--------+----------------+\n",
      "|estacio|          nom_cabina|codi_dtes|zqa|codi_eoi|longitud|latitud|            ubicacio|codi_districte|nom_districte|codi_barri|           nom_barri|clas_1|  clas_2|codi_contaminant|\n",
      "+-------+--------------------+---------+---+--------+--------+-------+--------------------+--------------+-------------+----------+--------------------+------+--------+----------------+\n",
      "|     50|Barcelona - Ciuta...|       IL|  1| 8019050|  2.1874|41.3864|Parc de la Ciutad...|             1| Ciutat Vella|         4|Sant Pere, Santa ...|Urbana|    Fons|               8|\n",
      "|     50|Barcelona - Ciuta...|       IL|  1| 8019050|  2.1874|41.3864|Parc de la Ciutad...|             1| Ciutat Vella|         4|Sant Pere, Santa ...|Urbana|    Fons|              14|\n",
      "|     50|Barcelona - Ciuta...|       IL|  1| 8019050|  2.1874|41.3864|Parc de la Ciutad...|             1| Ciutat Vella|         4|Sant Pere, Santa ...|Urbana|    Fons|               7|\n",
      "|     50|Barcelona - Ciuta...|       IL|  1| 8019050|  2.1874|41.3864|Parc de la Ciutad...|             1| Ciutat Vella|         4|Sant Pere, Santa ...|Urbana|    Fons|              12|\n",
      "|     43|Barcelona - Eixample|       IH|  1| 8019043|  2.1538|41.3853|Av. Roma - c/ Com...|             5|     Eixample|         9|la Nova Esquerra ...|Urbana|TrÃ nsit|               8|\n",
      "+-------+--------------------+---------+---+--------+--------+-------+--------------------+--------------+-------------+----------+--------------------+------+--------+----------------+\n",
      "only showing top 5 rows\n",
      "\n"
     ]
    }
   ],
   "source": [
    "df_2019.show(5)"
   ]
  },
  {
   "cell_type": "markdown",
   "metadata": {},
   "source": [
    "ocupacio_sol == clas_1\n",
    "\n",
    "emissions_properes == clas_2\n",
    "\n",
    "codi_contaminant in 2018, the rest contains:\n",
    "- contaminant_1: string (nullable = true)\n",
    "- contaminant_2: string (nullable = true)\n",
    "- contaminant_3: string (nullable = true)"
   ]
  },
  {
   "cell_type": "markdown",
   "metadata": {},
   "source": [
    "information might be valuable from 2018, so we will store it in a separate collection, however incoming new data will be stored in the same collection along with the rest of the data from 2019."
   ]
  },
  {
   "cell_type": "code",
   "execution_count": 92,
   "metadata": {},
   "outputs": [
    {
     "name": "stdout",
     "output_type": "stream",
     "text": [
      "Number of rows for year 2023 before filtering: 54\n",
      "Number of rows for year 2023 after filtering: 54\n",
      "Number of rows for year 2022 before filtering: 44\n",
      "Number of rows for year 2022 after filtering: 44\n",
      "Number of rows for year 2018 before filtering: 7\n",
      "Number of rows for year 2018 after filtering: 7\n",
      "Number of rows for year 2021 before filtering: 50\n",
      "Number of rows for year 2021 after filtering: 50\n",
      "Number of rows for year 2019 before filtering: 39\n",
      "Number of rows for year 2019 after filtering: 39\n"
     ]
    }
   ],
   "source": [
    "# filter out from all dfs where codi_districte is not in the range of 1 and 10, and codi_barri is not in the range of 1 and 73\n",
    "for year in airquality_dfs:\n",
    "    df = airquality_dfs[year]\n",
    "    print(f\"Number of rows for year {year} before filtering: {df.count()}\")\n",
    "    df = df.filter(df['codi_districte'].between(1, 10) & df['codi_barri'].between(1, 73))\n",
    "    print(f\"Number of rows for year {year} after filtering: {df.count()}\")\n",
    "    airquality_dfs[year] = df"
   ]
  },
  {
   "cell_type": "code",
   "execution_count": 93,
   "metadata": {},
   "outputs": [
    {
     "name": "stdout",
     "output_type": "stream",
     "text": [
      "Number of nulls in column nom_cabina: 0\n",
      "Number of nulls in column codi_dtes: 0\n",
      "Number of nulls in column zqa: 0\n",
      "Number of nulls in column codi_eoi: 0\n",
      "Number of nulls in column longitud: 0\n",
      "Number of nulls in column latitud: 0\n",
      "Number of nulls in column ubicacio: 0\n",
      "Number of nulls in column codi_districte: 0\n",
      "Number of nulls in column nom_districte: 0\n",
      "Number of nulls in column codi_barri: 0\n",
      "Number of nulls in column nom_barri: 0\n",
      "Number of nulls in column ocupacio_sol: 0\n",
      "Number of nulls in column emissions_properes: 0\n",
      "Number of nulls in column contaminant_1: 0\n",
      "Number of nulls in column contaminant_2: 2\n",
      "Number of nulls in column contaminant_3: 2\n",
      "Number of nulls in column estacio: 0\n"
     ]
    }
   ],
   "source": [
    "# find nulls\n",
    "for col in df_2018.columns:\n",
    "    print(f\"Number of nulls in column {col}: {df_2018.filter(df_2018[col].isNull()).count()}\")"
   ]
  },
  {
   "cell_type": "code",
   "execution_count": 94,
   "metadata": {},
   "outputs": [],
   "source": [
    "# for each string type column, apply the fix_encoding_udf function\n",
    "for col in df_2018.columns:\n",
    "    if df_2018.schema[col].dataType == StringType():\n",
    "        df_2018 = df_2018.withColumn(col, fix_encoding_udf(col))"
   ]
  },
  {
   "cell_type": "code",
   "execution_count": 95,
   "metadata": {},
   "outputs": [
    {
     "name": "stdout",
     "output_type": "stream",
     "text": [
      "+--------------------+---------+---+--------+--------+-------+--------------------+--------------+-------------+----------+--------------------+------------+------------------+-------------+-------------+-------------+-------+\n",
      "|          nom_cabina|codi_dtes|zqa|codi_eoi|longitud|latitud|            ubicacio|codi_districte|nom_districte|codi_barri|           nom_barri|ocupacio_sol|emissions_properes|contaminant_1|contaminant_2|contaminant_3|estacio|\n",
      "+--------------------+---------+---+--------+--------+-------+--------------------+--------------+-------------+----------+--------------------+------------+------------------+-------------+-------------+-------------+-------+\n",
      "|Barcelona - Ciuta...|       IL|  1| 8019050|  2.1874|41.3864|Parc de la Ciutad...|             1| Ciutat Vella|         4|Sant Pere, Santa ...|      Urbana|              Fons|          NO2|           O3|         NULL|     50|\n",
      "|Barcelona - Eixample|       IH|  1| 8019043|  2.1538|41.3853|Av. Roma - c/ Com...|             5|     Eixample|         9|la Nova Esquerra ...|      Urbana|           Trànsit|          NO2|           O3|         PM10|     43|\n",
      "|  Barcelona - Gràcia|       IJ|  1| 8019044|  2.1534|41.3987|Plaça Gal·la Plac...|             6|       Gracia|        31|   la Vila de Gracia|      Urbana|           Trànsit|          NO2|           O3|         PM10|     44|\n",
      "|Barcelona - Palau...|       IZ|  1| 8019057|  2.1151|41.3875|c/ John Maynard K...|             4|    Les Corts|        21|           Pedralbes|      Urbana|              Fons|          NO2|           O3|         PM10|     57|\n",
      "|Barcelona - Poblenou|       I2|  1| 8019004|  2.2045|41.4039|Plaça Josep Truet...|            10|   Sant Marti|        68|         el Poblenou|      Urbana|              Fons|          NO2|         NULL|         PM10|      4|\n",
      "+--------------------+---------+---+--------+--------+-------+--------------------+--------------+-------------+----------+--------------------+------------+------------------+-------------+-------------+-------------+-------+\n",
      "only showing top 5 rows\n",
      "\n"
     ]
    },
    {
     "name": "stderr",
     "output_type": "stream",
     "text": [
      "Error decoding: 'int' object has no attribute 'encode'. Trying ftfy...\n",
      "ftfy failed: object of type 'int' has no len(). Returning original string.\n",
      "Error decoding: 'int' object has no attribute 'encode'. Trying ftfy...\n",
      "ftfy failed: object of type 'int' has no len(). Returning original string.\n",
      "Error decoding: 'int' object has no attribute 'encode'. Trying ftfy...\n",
      "ftfy failed: object of type 'int' has no len(). Returning original string.\n",
      "Error decoding: 'int' object has no attribute 'encode'. Trying ftfy...\n",
      "ftfy failed: object of type 'int' has no len(). Returning original string.\n",
      "Error decoding: 'int' object has no attribute 'encode'. Trying ftfy...\n",
      "ftfy failed: object of type 'int' has no len(). Returning original string.\n",
      "Error decoding: 'int' object has no attribute 'encode'. Trying ftfy...\n",
      "ftfy failed: object of type 'int' has no len(). Returning original string.\n"
     ]
    }
   ],
   "source": [
    "df_2018.show(5)"
   ]
  },
  {
   "cell_type": "code",
   "execution_count": 96,
   "metadata": {},
   "outputs": [
    {
     "name": "stderr",
     "output_type": "stream",
     "text": [
      "Error decoding: 'int' object has no attribute 'encode'. Trying ftfy...\n",
      "ftfy failed: object of type 'int' has no len(). Returning original string.\n",
      "Error decoding: 'int' object has no attribute 'encode'. Trying ftfy...\n",
      "ftfy failed: object of type 'int' has no len(). Returning original string.\n",
      "Error decoding: 'int' object has no attribute 'encode'. Trying ftfy...\n",
      "ftfy failed: object of type 'int' has no len(). Returning original string.\n",
      "Error decoding: 'int' object has no attribute 'encode'. Trying ftfy...\n",
      "ftfy failed: object of type 'int' has no len(). Returning original string.\n",
      "Error decoding: 'int' object has no attribute 'encode'. Trying ftfy...\n",
      "ftfy failed: object of type 'int' has no len(). Returning original string.\n",
      "Error decoding: 'int' object has no attribute 'encode'. Trying ftfy...\n",
      "ftfy failed: object of type 'int' has no len(). Returning original string.\n",
      "Error decoding: 'int' object has no attribute 'encode'. Trying ftfy...\n",
      "ftfy failed: object of type 'int' has no len(). Returning original string.\n"
     ]
    }
   ],
   "source": [
    "df_2018.write.format(\"mongodb\") \\\n",
    "    .mode(\"overwrite\") \\\n",
    "    .option(\"database\", \"bdm\") \\\n",
    "    .option(\"collection\", \"airquality-lookup-2018\") \\\n",
    "    .save()"
   ]
  },
  {
   "cell_type": "code",
   "execution_count": 97,
   "metadata": {},
   "outputs": [
    {
     "data": {
      "text/plain": [
       "DataFrame[nom_cabina: string, codi_dtes: string, zqa: int, codi_eoi: int, longitud: double, latitud: double, ubicacio: string, codi_districte: int, nom_districte: string, codi_barri: int, nom_barri: string, ocupacio_sol: string, emissions_properes: string, contaminant_1: string, contaminant_2: string, contaminant_3: string]"
      ]
     },
     "execution_count": 97,
     "metadata": {},
     "output_type": "execute_result"
    }
   ],
   "source": [
    "# remove 2018 from the dictionary\n",
    "airquality_dfs.pop(\"2018\")"
   ]
  },
  {
   "cell_type": "code",
   "execution_count": 98,
   "metadata": {},
   "outputs": [],
   "source": [
    "# add a year column to each dataframe\n",
    "for year in airquality_dfs:\n",
    "    df = airquality_dfs[year]\n",
    "    df = df.withColumn(\"year\", lit(int(year)))\n",
    "    airquality_dfs[year] = df"
   ]
  },
  {
   "cell_type": "code",
   "execution_count": 99,
   "metadata": {},
   "outputs": [
    {
     "name": "stdout",
     "output_type": "stream",
     "text": [
      "+-------+--------------------+---------+---+--------+--------+-------+--------------------+--------------+-------------+----------+--------------------+------+------+----------------+----+\n",
      "|estacio|          nom_cabina|codi_dtes|zqa|codi_eoi|longitud|latitud|            ubicacio|codi_districte|nom_districte|codi_barri|           nom_barri|clas_1|clas_2|codi_contaminant|year|\n",
      "+-------+--------------------+---------+---+--------+--------+-------+--------------------+--------------+-------------+----------+--------------------+------+------+----------------+----+\n",
      "|     50|Barcelona - Ciuta...|       IL|  1| 8019050|  2.1874|41.3864|Parc de la Ciutad...|             1| Ciutat Vella|         4|Sant Pere, Santa ...|Urbana|  Fons|               8|2019|\n",
      "|     50|Barcelona - Ciuta...|       IL|  1| 8019050|  2.1874|41.3864|Parc de la Ciutad...|             1| Ciutat Vella|         4|Sant Pere, Santa ...|Urbana|  Fons|              14|2019|\n",
      "|     50|Barcelona - Ciuta...|       IL|  1| 8019050|  2.1874|41.3864|Parc de la Ciutad...|             1| Ciutat Vella|         4|Sant Pere, Santa ...|Urbana|  Fons|               7|2019|\n",
      "+-------+--------------------+---------+---+--------+--------+-------+--------------------+--------------+-------------+----------+--------------------+------+------+----------------+----+\n",
      "only showing top 3 rows\n",
      "\n"
     ]
    }
   ],
   "source": [
    "airquality_dfs['2019'].show(3)"
   ]
  },
  {
   "cell_type": "code",
   "execution_count": 100,
   "metadata": {},
   "outputs": [],
   "source": [
    "# merge all dataframes\n",
    "airqual_lookup_from_2019_df = None\n",
    "for year in airquality_dfs:\n",
    "    if airqual_lookup_from_2019_df is None:\n",
    "        airqual_lookup_from_2019_df = airquality_dfs[year]\n",
    "    else:\n",
    "        airqual_lookup_from_2019_df = airqual_lookup_from_2019_df.union(airquality_dfs[year])"
   ]
  },
  {
   "cell_type": "code",
   "execution_count": 101,
   "metadata": {},
   "outputs": [
    {
     "name": "stdout",
     "output_type": "stream",
     "text": [
      "54\n",
      "44\n",
      "50\n",
      "39\n",
      "Sum: 187\n"
     ]
    }
   ],
   "source": [
    "sum = 0\n",
    "for year in airquality_dfs:\n",
    "    print(airquality_dfs[year].count())\n",
    "    sum += airquality_dfs[year].count()\n",
    "print(\"Sum:\", sum)"
   ]
  },
  {
   "cell_type": "code",
   "execution_count": 102,
   "metadata": {},
   "outputs": [
    {
     "data": {
      "text/plain": [
       "187"
      ]
     },
     "execution_count": 102,
     "metadata": {},
     "output_type": "execute_result"
    }
   ],
   "source": [
    "airqual_lookup_from_2019_df.count()"
   ]
  },
  {
   "cell_type": "code",
   "execution_count": 103,
   "metadata": {},
   "outputs": [
    {
     "name": "stdout",
     "output_type": "stream",
     "text": [
      "Number of rows before deduplication: 187\n",
      "Number of rows after deduplication: 187\n"
     ]
    }
   ],
   "source": [
    "# deduplicate the dataframe\n",
    "print(f\"Number of rows before deduplication: {airqual_lookup_from_2019_df.count()}\")\n",
    "airqual_lookup_from_2019_df = airqual_lookup_from_2019_df.dropDuplicates()\n",
    "print(f\"Number of rows after deduplication: {airqual_lookup_from_2019_df.count()}\")"
   ]
  },
  {
   "cell_type": "code",
   "execution_count": 104,
   "metadata": {},
   "outputs": [
    {
     "name": "stdout",
     "output_type": "stream",
     "text": [
      "+-------+--------------------+---------+---+--------+--------+-------+--------------------+--------------+--------------+----------+--------------------+------+--------+----------------+----+\n",
      "|estacio|          nom_cabina|codi_dtes|zqa|codi_eoi|longitud|latitud|            ubicacio|codi_districte| nom_districte|codi_barri|           nom_barri|clas_1|  clas_2|codi_contaminant|year|\n",
      "+-------+--------------------+---------+---+--------+--------+-------+--------------------+--------------+--------------+----------+--------------------+------+--------+----------------+----+\n",
      "|     43|Barcelona - Eixample|       IH|  1| 8019043|  2.1538|41.3853|Av. Roma - c/ Com...|             5|      Eixample|         9|la Nova Esquerra ...|Urbana|TrÃ nsit|              12|2023|\n",
      "|     50|Barcelona - Ciuta...|       IL|  1| 8019050|  2.1874|41.3864|Parc de la Ciutad...|             1|  Ciutat Vella|         4|Sant Pere, Santa ...|Urbana|    Fons|               7|2023|\n",
      "|     44| Barcelona - GrÃ cia|       IJ|  1| 8019044|  2.1534|41.3987|PlaÃ§a GalÂ·la Pl...|             6|        Gracia|        31|   la Vila de Gracia|Urbana|TrÃ nsit|               6|2023|\n",
      "|     44| Barcelona - GrÃ cia|       IJ|  1| 8019044|  2.1534|41.3987|PlaÃ§a GalÂ·la Pl...|             6|        Gracia|        31|   la Vila de Gracia|Urbana|TrÃ nsit|               1|2023|\n",
      "|      4|Barcelona - Poblenou|       I2|  1| 8019004|  2.2045|41.4039|PlaÃ§a Josep True...|            10|    Sant Marti|        68|         el Poblenou|Urbana|    Fons|              12|2023|\n",
      "|     57|Barcelona - Palau...|       IZ|  1| 8019057|  2.1151|41.3875|c/ John Maynard K...|             4|     Les Corts|        21|           Pedralbes|Urbana|    Fons|              12|2023|\n",
      "|     57|Barcelona - Palau...|       IZ|  1| 8019057|  2.1151|41.3875|c/ John Maynard K...|             4|     Les Corts|        21|           Pedralbes|Urbana|    Fons|             110|2023|\n",
      "|     57|Barcelona - Palau...|       IZ|  1| 8019057|  2.1151|41.3875|c/ John Maynard K...|             4|     Les Corts|        21|           Pedralbes|Urbana|    Fons|             114|2023|\n",
      "|      4|Barcelona - Poblenou|       I2|  1| 8019004|  2.2045|41.4039|PlaÃ§a Josep True...|            10|    Sant Marti|        68|         el Poblenou|Urbana|    Fons|              10|2023|\n",
      "|     44| Barcelona - GrÃ cia|       IJ|  1| 8019044|  2.1534|41.3987|PlaÃ§a GalÂ·la Pl...|             6|        Gracia|        31|   la Vila de Gracia|Urbana|TrÃ nsit|              10|2023|\n",
      "|     57|Barcelona - Palau...|       IZ|  1| 8019057|  2.1151|41.3875|c/ John Maynard K...|             4|     Les Corts|        21|           Pedralbes|Urbana|    Fons|              14|2023|\n",
      "|      4|Barcelona - Poblenou|       I2|  1| 8019004|  2.2045|41.4039|PlaÃ§a Josep True...|            10|    Sant Marti|        68|         el Poblenou|Urbana|    Fons|               8|2023|\n",
      "|     43|Barcelona - Eixample|       IH|  1| 8019043|  2.1538|41.3853|Av. Roma - c/ Com...|             5|      Eixample|         9|la Nova Esquerra ...|Urbana|TrÃ nsit|               7|2023|\n",
      "|     54|Barcelona - Vall ...|       IN|  1| 8019054|   2.148|41.4261|Parc de la Vall d...|             7|Horta-Guinardo|        41|    la Vall d'Hebron|Urbana|    Fons|               7|2023|\n",
      "|     43|Barcelona - Eixample|       IH|  1| 8019043|  2.1538|41.3853|Av. Roma - c/ Com...|             5|      Eixample|         9|la Nova Esquerra ...|Urbana|TrÃ nsit|              10|2023|\n",
      "|     43|Barcelona - Eixample|       IH|  1| 8019043|  2.1538|41.3853|Av. Roma - c/ Com...|             5|      Eixample|         9|la Nova Esquerra ...|Urbana|TrÃ nsit|               1|2023|\n",
      "|     57|Barcelona - Palau...|       IZ|  1| 8019057|  2.1151|41.3875|c/ John Maynard K...|             4|     Les Corts|        21|           Pedralbes|Urbana|    Fons|             107|2023|\n",
      "|     57|Barcelona - Palau...|       IZ|  1| 8019057|  2.1151|41.3875|c/ John Maynard K...|             4|     Les Corts|        21|           Pedralbes|Urbana|    Fons|             109|2023|\n",
      "|     42|   Barcelona - Sants|       ID|  1| 8019042|  2.1331|41.3788|Jardins de Can Ma...|             3|Sants-Montjuic|        18|               Sants|Urbana|    Fons|               8|2023|\n",
      "|     44| Barcelona - GrÃ cia|       IJ|  1| 8019044|  2.1534|41.3987|PlaÃ§a GalÂ·la Pl...|             6|        Gracia|        31|   la Vila de Gracia|Urbana|TrÃ nsit|               7|2023|\n",
      "+-------+--------------------+---------+---+--------+--------+-------+--------------------+--------------+--------------+----------+--------------------+------+--------+----------------+----+\n",
      "only showing top 20 rows\n",
      "\n"
     ]
    }
   ],
   "source": [
    "airqual_lookup_from_2019_df.show()"
   ]
  },
  {
   "cell_type": "code",
   "execution_count": 105,
   "metadata": {},
   "outputs": [],
   "source": [
    "# for each string type column, apply the fix_encoding_udf function\n",
    "for col in airqual_lookup_from_2019_df.columns:\n",
    "    if airqual_lookup_from_2019_df.schema[col].dataType == StringType():\n",
    "        airqual_lookup_from_2019_df = airqual_lookup_from_2019_df.withColumn(col, fix_encoding_udf(col))"
   ]
  },
  {
   "cell_type": "code",
   "execution_count": 106,
   "metadata": {},
   "outputs": [
    {
     "name": "stdout",
     "output_type": "stream",
     "text": [
      "+-------+--------------------+---------+---+--------+--------+-------+--------------------+--------------+-------------+----------+--------------------+------+-------+----------------+----+\n",
      "|estacio|          nom_cabina|codi_dtes|zqa|codi_eoi|longitud|latitud|            ubicacio|codi_districte|nom_districte|codi_barri|           nom_barri|clas_1| clas_2|codi_contaminant|year|\n",
      "+-------+--------------------+---------+---+--------+--------+-------+--------------------+--------------+-------------+----------+--------------------+------+-------+----------------+----+\n",
      "|     43|Barcelona - Eixample|       IH|  1| 8019043|  2.1538|41.3853|Av. Roma - c/ Com...|             5|     Eixample|         9|la Nova Esquerra ...|Urbana|Trànsit|              12|2023|\n",
      "|     50|Barcelona - Ciuta...|       IL|  1| 8019050|  2.1874|41.3864|Parc de la Ciutad...|             1| Ciutat Vella|         4|Sant Pere, Santa ...|Urbana|   Fons|               7|2023|\n",
      "|     44|  Barcelona - Gràcia|       IJ|  1| 8019044|  2.1534|41.3987|Plaça Gal·la Plac...|             6|       Gracia|        31|   la Vila de Gracia|Urbana|Trànsit|               6|2023|\n",
      "|     44|  Barcelona - Gràcia|       IJ|  1| 8019044|  2.1534|41.3987|Plaça Gal·la Plac...|             6|       Gracia|        31|   la Vila de Gracia|Urbana|Trànsit|               1|2023|\n",
      "|      4|Barcelona - Poblenou|       I2|  1| 8019004|  2.2045|41.4039|Plaça Josep Truet...|            10|   Sant Marti|        68|         el Poblenou|Urbana|   Fons|              12|2023|\n",
      "|     57|Barcelona - Palau...|       IZ|  1| 8019057|  2.1151|41.3875|c/ John Maynard K...|             4|    Les Corts|        21|           Pedralbes|Urbana|   Fons|              12|2023|\n",
      "|     57|Barcelona - Palau...|       IZ|  1| 8019057|  2.1151|41.3875|c/ John Maynard K...|             4|    Les Corts|        21|           Pedralbes|Urbana|   Fons|             110|2023|\n",
      "|     57|Barcelona - Palau...|       IZ|  1| 8019057|  2.1151|41.3875|c/ John Maynard K...|             4|    Les Corts|        21|           Pedralbes|Urbana|   Fons|             114|2023|\n",
      "|      4|Barcelona - Poblenou|       I2|  1| 8019004|  2.2045|41.4039|Plaça Josep Truet...|            10|   Sant Marti|        68|         el Poblenou|Urbana|   Fons|              10|2023|\n",
      "|     44|  Barcelona - Gràcia|       IJ|  1| 8019044|  2.1534|41.3987|Plaça Gal·la Plac...|             6|       Gracia|        31|   la Vila de Gracia|Urbana|Trànsit|              10|2023|\n",
      "+-------+--------------------+---------+---+--------+--------+-------+--------------------+--------------+-------------+----------+--------------------+------+-------+----------------+----+\n",
      "only showing top 10 rows\n",
      "\n"
     ]
    }
   ],
   "source": [
    "airqual_lookup_from_2019_df.show(10)"
   ]
  },
  {
   "cell_type": "code",
   "execution_count": 107,
   "metadata": {},
   "outputs": [
    {
     "name": "stdout",
     "output_type": "stream",
     "text": [
      "root\n",
      " |-- estacio: integer (nullable = true)\n",
      " |-- nom_cabina: string (nullable = true)\n",
      " |-- codi_dtes: string (nullable = true)\n",
      " |-- zqa: integer (nullable = true)\n",
      " |-- codi_eoi: integer (nullable = true)\n",
      " |-- longitud: double (nullable = true)\n",
      " |-- latitud: double (nullable = true)\n",
      " |-- ubicacio: string (nullable = true)\n",
      " |-- codi_districte: integer (nullable = true)\n",
      " |-- nom_districte: string (nullable = true)\n",
      " |-- codi_barri: integer (nullable = true)\n",
      " |-- nom_barri: string (nullable = true)\n",
      " |-- clas_1: string (nullable = true)\n",
      " |-- clas_2: string (nullable = true)\n",
      " |-- codi_contaminant: integer (nullable = true)\n",
      " |-- year: integer (nullable = false)\n",
      "\n"
     ]
    }
   ],
   "source": [
    "airqual_lookup_from_2019_df.printSchema()"
   ]
  },
  {
   "cell_type": "code",
   "execution_count": 108,
   "metadata": {},
   "outputs": [
    {
     "name": "stdout",
     "output_type": "stream",
     "text": [
      "Number of nulls in column estacio: 0\n"
     ]
    },
    {
     "name": "stderr",
     "output_type": "stream",
     "text": [
      "                                                                                \r"
     ]
    },
    {
     "name": "stdout",
     "output_type": "stream",
     "text": [
      "Number of nulls in column nom_cabina: 0\n",
      "Number of nulls in column codi_dtes: 0\n",
      "Number of nulls in column zqa: 0\n",
      "Number of nulls in column codi_eoi: 0\n",
      "Number of nulls in column longitud: 0\n",
      "Number of nulls in column latitud: 0\n",
      "Number of nulls in column ubicacio: 0\n",
      "Number of nulls in column codi_districte: 0\n",
      "Number of nulls in column nom_districte: 0\n",
      "Number of nulls in column codi_barri: 0\n",
      "Number of nulls in column nom_barri: 0\n",
      "Number of nulls in column clas_1: 0\n",
      "Number of nulls in column clas_2: 0\n",
      "Number of nulls in column codi_contaminant: 0\n",
      "Number of nulls in column year: 0\n"
     ]
    }
   ],
   "source": [
    "# find nulls\n",
    "for col in airqual_lookup_from_2019_df.columns:\n",
    "    print(f\"Number of nulls in column {col}: {airqual_lookup_from_2019_df.filter(airqual_lookup_from_2019_df[col].isNull()).count()}\")"
   ]
  },
  {
   "cell_type": "code",
   "execution_count": 110,
   "metadata": {},
   "outputs": [],
   "source": [
    "airqual_lookup_from_2019_df.write.format(\"mongodb\") \\\n",
    "    .mode(\"overwrite\") \\\n",
    "    .option(\"database\", \"bdm\") \\\n",
    "    .option(\"collection\", \"airquality-lookup-after-2018\") \\\n",
    "    .save()"
   ]
  }
 ],
 "metadata": {
  "kernelspec": {
   "display_name": ".venv",
   "language": "python",
   "name": "python3"
  },
  "language_info": {
   "codemirror_mode": {
    "name": "ipython",
    "version": 3
   },
   "file_extension": ".py",
   "mimetype": "text/x-python",
   "name": "python",
   "nbconvert_exporter": "python",
   "pygments_lexer": "ipython3",
   "version": "3.10.12"
  }
 },
 "nbformat": 4,
 "nbformat_minor": 2
}
